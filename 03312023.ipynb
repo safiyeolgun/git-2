{
  "nbformat": 4,
  "nbformat_minor": 0,
  "metadata": {
    "colab": {
      "provenance": [],
      "include_colab_link": true
    },
    "kernelspec": {
      "name": "python3",
      "display_name": "Python 3"
    },
    "language_info": {
      "name": "python"
    }
  },
  "cells": [
    {
      "cell_type": "markdown",
      "metadata": {
        "id": "view-in-github",
        "colab_type": "text"
      },
      "source": [
        "<a href=\"https://colab.research.google.com/github/safiyeolgun/students-lab/blob/main/03312023.ipynb\" target=\"_parent\"><img src=\"https://colab.research.google.com/assets/colab-badge.svg\" alt=\"Open In Colab\"/></a>"
      ]
    },
    {
      "cell_type": "markdown",
      "source": [
        "# **Python Dictionary Collection**"
      ],
      "metadata": {
        "id": "Rabtj-lUTV12"
      }
    },
    {
      "cell_type": "code",
      "source": [
        "# 12) Kilosu aşağıda verilen ürünlerden 2 kilo orange'in fiyatını ve 3 kg carrot fiyatını collection içerisinde alıp 18. satırda print içerisinde asağıdaki gibi formatlı yazdırın.\n",
        "# 2kg orange : 30TL\n",
        "# 3kg carrot : 39TL\n",
        "\n",
        "bazar_dict = {'fruit':\n",
        "           {'banana': 20,\n",
        "            'apple': 10,\n",
        "            'orange': 15\n",
        "           },\n",
        "           'vegatable':\n",
        "           {'onion': 11.5,\n",
        "            'carrot': 13,\n",
        "            'leek': 19,\n",
        "            'tomato': 25\n",
        "           }\n",
        "}\n",
        "\n",
        "print(f\"2kg orange: {bazar_dict['fruit']['orange']*2}TL \\n3kg carrot : {bazar_dict['vegatable']['carrot']*3}TL\")"
      ],
      "metadata": {
        "id": "ixfvQhKNw8Z_",
        "colab": {
          "base_uri": "https://localhost:8080/"
        },
        "outputId": "b06ead92-d52b-47c4-8f5d-85234ded7bee"
      },
      "execution_count": null,
      "outputs": [
        {
          "output_type": "stream",
          "name": "stdout",
          "text": [
            "2kg orange: 30TL \n",
            "3kg carrot : 39TL\n"
          ]
        }
      ]
    },
    {
      "cell_type": "code",
      "source": [
        "# 13) 10. Aşağıdaki collection içerisine\n",
        "#         A) other key'i içerisine flower: 45TL ve cheese: 89TL çiftlerini key'i indeks gibi kullanarak ekleyin.\n",
        "#         B) vegatable içerisindeki onion türlerine purple 30TL'yi update methodu ile ekleyin.\n",
        "#         C) juice: 21TL'yi keyleri kontrol edip eğer yoksa eklemesini sağlayın.\n",
        "bazar_dict = {'fruit':\n",
        "           {'banana': 20,\n",
        "            'apple': 10,\n",
        "            'orange': 15\n",
        "           },\n",
        "           'vegatable':\n",
        "           {'onion':{'white': 11.5,\n",
        "                     'yellow': 15,\n",
        "                     'small': 25},\n",
        "            'carrot': 13,\n",
        "            'leek': 19,\n",
        "            'tomato': 25\n",
        "           }\n",
        "}\n",
        "\n",
        "len(bazar_dict)\n",
        "bazar_dict['other'] = {'flower': 45, 'cheese': 89}\n",
        "bazar_dict['vegatable']['onion'].update({'purple':30})\n",
        "bazar_dict.setdefault('juice', 21) # key' i kontrol eder yoksa ekler\n",
        "bazar_dict ['juice'] = 21  # key yoksa ekler, varsa value'yi değiştir\n",
        "print(len(bazar_dict))\n",
        "bazar_dict"
      ],
      "metadata": {
        "id": "-Vlp9mlGDgyP",
        "colab": {
          "base_uri": "https://localhost:8080/"
        },
        "outputId": "ae6e2998-918d-42fb-8e73-0137e5706f82"
      },
      "execution_count": null,
      "outputs": [
        {
          "output_type": "stream",
          "name": "stdout",
          "text": [
            "4\n"
          ]
        },
        {
          "output_type": "execute_result",
          "data": {
            "text/plain": [
              "{'fruit': {'banana': 20, 'apple': 10, 'orange': 15},\n",
              " 'vegatable': {'onion': {'white': 11.5,\n",
              "   'yellow': 15,\n",
              "   'small': 25,\n",
              "   'purple': 30},\n",
              "  'carrot': 13,\n",
              "  'leek': 19,\n",
              "  'tomato': 25},\n",
              " 'other': {'flower': 45, 'cheese': 89},\n",
              " 'juice': (2, 3, 4)}"
            ]
          },
          "metadata": {},
          "execution_count": 19
        }
      ]
    },
    {
      "cell_type": "code",
      "source": [
        "# 14) 11. Aşağıdaki collection içerisindeki vegatable içerisindeki\n",
        "#         A) fruit'leri del function'ı ile silin\n",
        "#         B) tüm onion'ları pop methodu ile silin\n",
        "#         C) leek'in value'sini silin\n",
        "#         D) tomato'yu silin\n",
        "bazar_dict = {'fruit':\n",
        "           {'banana': 20,\n",
        "            'apple': 10,\n",
        "            'orange': 15\n",
        "           },\n",
        "           'vegatable':\n",
        "           {'onion':{'white': 11.5,\n",
        "                     'yellow': 15,\n",
        "                     'small': 25},\n",
        "            'carrot': 13,\n",
        "            'leek': 19,\n",
        "            'tomato': 25\n",
        "           }\n",
        "}\n",
        "del bazar_dict['fruit']\n",
        "bazar_dict['vegatable'].pop('onion','silinecek yok')\n",
        "bazar_dict['vegatable']['leek'] = 25\n",
        "bazar_dict['vegatable'].popitem()\n",
        "bazar_dict"
      ],
      "metadata": {
        "id": "zTtImG3JFxQO",
        "colab": {
          "base_uri": "https://localhost:8080/"
        },
        "outputId": "55aa7222-048f-48da-9c18-a77c06bb05fb"
      },
      "execution_count": null,
      "outputs": [
        {
          "output_type": "execute_result",
          "data": {
            "text/plain": [
              "{'vegatable': {'carrot': 13, 'leek': 25}}"
            ]
          },
          "metadata": {},
          "execution_count": 52
        }
      ]
    },
    {
      "cell_type": "code",
      "source": [
        "# 15) Aşağıdaki collection içerisine Kenya: Nairobi çiftini ekleyin.\n",
        "\n",
        "country_capitals = {'Türkiye': 'Ankara',\n",
        "                    'Germany': 'Berlin',\n",
        "                    'Japan': 'Tokyo',\n",
        "                    'Canada': 'Ottawa',\n",
        "                    'Peru': 'Lima',\n",
        "                    'Kazakhstan' : 'Astana',\n",
        "                    'India' : 'New Delhi'                   \n",
        "                    }\n",
        "len(country_capitals)\n",
        "# country_capitals['Kenya'] = 'Nairobi'\n",
        "# country_capitals.update({'Kenya': 'Nairobi'})\n",
        "# country_capitals.update(Kenya ='Nairobi')\n",
        "# country_capitals.update([['Kenya','İstanbul']])\n",
        "# country_capitals.update([('Kenya',('İstanbul','Nairobi', 'Ali'))])\n",
        "\n",
        "country_capitals.update(zip(['Kenya', 'Almataata'], [['X'], 'Y']))\n",
        "country_capitals['Kenya'].append(('Nairobi','Eskişehir', 23))\n",
        "country_capitals"
      ],
      "metadata": {
        "id": "6LfDGsjnUp6s",
        "colab": {
          "base_uri": "https://localhost:8080/"
        },
        "outputId": "c0c65894-1339-4a59-82cd-f8f1ace32316"
      },
      "execution_count": null,
      "outputs": [
        {
          "output_type": "execute_result",
          "data": {
            "text/plain": [
              "{'Türkiye': 'Ankara',\n",
              " 'Germany': 'Berlin',\n",
              " 'Japan': 'Tokyo',\n",
              " 'Canada': 'Ottawa',\n",
              " 'Peru': 'Lima',\n",
              " 'Kazakhstan': 'Astana',\n",
              " 'India': 'New Delhi',\n",
              " 'Kenya': ['X', ('Nairobi', 'Eskişehir', 23)],\n",
              " 'Almataata': 'Y'}"
            ]
          },
          "metadata": {},
          "execution_count": 85
        }
      ]
    },
    {
      "cell_type": "code",
      "source": [
        "# 16) dictionary collection içerisine 'Kenya':'Nairobi', 'Canada': 'Ottawa', 'Japan': 'Tokyo' key-value'leleri tek satırda ekleyin\n",
        "\n",
        "country_capitals = {'Türkiye': 'Ankara',\n",
        "                    'Germany': 'Berlin',\n",
        "                    'Peru': 'Lima',\n",
        "                    'India' : 'New Delhi'\n",
        "                    }\n",
        "\n",
        "# country_capitals.update([('Kenya','Nairobi'),('Canada', 'Ottawa'), ('Japan','Tokyo' )])\n",
        "# country_capitals.update({'Kenya':'Nairobi', 'Canada': 'Ottawa', 'Japan': 'Tokyo'})\n",
        "country_capitals.update(Kenya ='Nairobi', Canada= 'Ottawa', Japan = 'Tokyo')\n",
        "# country_capitals.update(zip(['Kenya','Canada', 'Japan'],['Nairobi', 'Ottawa', 'Tokyo']))\n",
        "# country_capitals['Kenya'] ='Nairobi'\n",
        "# country_capitals['Canada'] = 'Ottawa'\n",
        "# country_capitals['Japon'] = 'Tokyo' \n",
        "# dict2 = dict(zip(['Kenya','Canada', 'Japan'],['Nairobi', 'Ottawa', 'Tokyo']))\n",
        "country_capitals\n",
        "# dict2\n"
      ],
      "metadata": {
        "id": "12anYmB3TcT4",
        "colab": {
          "base_uri": "https://localhost:8080/"
        },
        "outputId": "eafc9bb1-e983-4690-8aba-720e1f625720"
      },
      "execution_count": null,
      "outputs": [
        {
          "output_type": "execute_result",
          "data": {
            "text/plain": [
              "{'Kenya': 'Nairobi', 'Canada': 'Ottawa', 'Japan': 'Tokyo'}"
            ]
          },
          "metadata": {},
          "execution_count": 98
        }
      ]
    },
    {
      "cell_type": "code",
      "source": [
        "# 17) Aşağıdaki collection içerisine yapılan eklemelerden hangisi/hangileri çalışmaz ve çalışmama nedeni nedir? \n",
        " \n",
        "country_capitals = {'Türkiye': 'Ankara',\n",
        "                    'Germany': 'Berlin',\n",
        "                    'Japan': 'Tokyo',\n",
        "                    'Canada': 'Ottawa',\n",
        "                    'Peru': 'Lima',\n",
        "                    'Kazakhstan' : 'Astana',\n",
        "                    'India' : 'New Delhi'                   \n",
        "                    }\n",
        "                    \n",
        "country_capitals['India'] = 'Warsaw'\n",
        "country_capitals.update({'Egypt': 'Cairo'})\n",
        "country_capitals.update(Japan = None)\n",
        "country_capitals.setdefault('Japan','Y')  \n",
        "country_capitals.setdefault('Norweç','Oslo')\n",
        "country_capitals.setdefault('slavenya')\n",
        "country_capitals.update(Holland = 'ZZ')\n",
        "\n",
        "# country_capitals.update([('USA', 'Washington, D.C.')])\n",
        "# country_capitals.update(Chine = 'Beijing')\n",
        "# country_capitals.update([['Azerbaijan', 'Baku']])\n",
        "\n",
        "\n",
        "\n",
        "country_capitals"
      ],
      "metadata": {
        "id": "feNN5RaXvkx9",
        "colab": {
          "base_uri": "https://localhost:8080/"
        },
        "outputId": "00b95545-e7ca-4904-ce8d-4daae0e900c2"
      },
      "execution_count": null,
      "outputs": [
        {
          "output_type": "execute_result",
          "data": {
            "text/plain": [
              "{'Türkiye': 'Ankara',\n",
              " 'Germany': 'Berlin',\n",
              " 'Japan': None,\n",
              " 'Canada': 'Ottawa',\n",
              " 'Peru': 'Lima',\n",
              " 'Kazakhstan': 'Astana',\n",
              " 'India': 'Warsaw',\n",
              " 'Egypt': 'Cairo',\n",
              " 'Norweç': 'Oslo',\n",
              " 'slavenya': None,\n",
              " 'Holland': 'ZZ'}"
            ]
          },
          "metadata": {},
          "execution_count": 111
        }
      ]
    },
    {
      "cell_type": "code",
      "source": [
        "# 18) 14, 15 ve 16. satırların print sonuçları nedir?\n",
        "country_capitals1 = {\n",
        "    'Türkiye': 'Ankara', \n",
        "                     'Germany': 'Berlin',   \n",
        "                     'Peru': \n",
        "                     'Lima',  'India' : 'New Delhi'\n",
        "                     }\n",
        "\n",
        "country_capitals2 = {'Türkiye': 'Ankara','Germany': 'Berlin', 'Peru': 'Lima',\n",
        "                    'India' : 'New Delhi'\n",
        "                    }\n",
        "\n",
        "country_capitals3 = {'Türkiye': 'Ankara',\n",
        "                    'Germany': 'Berlin',\n",
        "                    'Peru': 'Lima',\n",
        "                    'India' : 'New Delhi'\n",
        "                    }\n",
        "\n",
        "print(country_capitals1)\n",
        "print(country_capitals2)\n",
        "print(country_capitals3)\n",
        "x = 4 + 5\n",
        "x"
      ],
      "metadata": {
        "id": "iQupNWxvV7IH",
        "colab": {
          "base_uri": "https://localhost:8080/"
        },
        "outputId": "89dcfc3d-aacc-4b74-f80c-e3c51ed7cbdf"
      },
      "execution_count": null,
      "outputs": [
        {
          "output_type": "stream",
          "name": "stdout",
          "text": [
            "{'Türkiye': 'Ankara', 'Germany': 'Berlin', 'Peru': 'Lima', 'India': 'New Delhi'}\n",
            "{'Türkiye': 'Ankara', 'Germany': 'Berlin', 'Peru': 'Lima', 'India': 'New Delhi'}\n",
            "{'Türkiye': 'Ankara', 'Germany': 'Berlin', 'Peru': 'Lima', 'India': 'New Delhi'}\n"
          ]
        },
        {
          "output_type": "execute_result",
          "data": {
            "text/plain": [
              "9"
            ]
          },
          "metadata": {},
          "execution_count": 129
        }
      ]
    },
    {
      "cell_type": "code",
      "source": [
        "# 19) UK'nin başkentini London' yapın\n",
        "country_capitals = {\n",
        "    'asia': {'Japan': 'Tokyo',\n",
        "             'Kazakhstan' : 'Astana',\n",
        "             'Kyrgyzstan' : 'Bishkek',\n",
        "             'India' : 'New Delhi'\n",
        "             },\n",
        "    'europe':{'UK': 'Washington',\n",
        "              'France': 'Paris',\n",
        "              'Türkiye': 'Ankara',\n",
        "              'Rumania': 'Bucharest',\n",
        "              'Bulgaria': 'Sofia',\n",
        "              'Greece': 'Athens',\n",
        "              'Germany': 'Berlin'\n",
        "              },\n",
        "    'america': {'Canada': 'Ottawa',\n",
        "                'Canada': 'Ottawa',\n",
        "                'Peru': 'Lima',\n",
        "                'Mexico': 'Mexico City',\n",
        "                'USA': 'Washington, D.C.'\n",
        "                },\n",
        "    'africa' : {'Kenya':'Nairobi',\n",
        "                'Morocco': 'Rabat',\n",
        "                'Nigeria':'Abuja',\n",
        "                'Madagascar': ' Antananarivo'\n",
        "                },\n",
        "    'australia':{'Australia' : 'Canberra'}\n",
        "    }\n",
        "    \n",
        "country_capitals['europe']['UK'] = 'London'\n",
        "# country_capitals['europe'].update(UK = 'London')\n",
        "# country_capitals['europe'].setdefault('UK', 'London')\n",
        "country_capitals"
      ],
      "metadata": {
        "colab": {
          "base_uri": "https://localhost:8080/"
        },
        "id": "jMU64n1QyOnX",
        "outputId": "d7697520-4192-4f29-ea70-92530ca12f14"
      },
      "execution_count": null,
      "outputs": [
        {
          "output_type": "execute_result",
          "data": {
            "text/plain": [
              "{'asia': {'Japan': 'Tokyo',\n",
              "  'Kazakhstan': 'Astana',\n",
              "  'Kyrgyzstan': 'Bishkek',\n",
              "  'India': 'New Delhi'},\n",
              " 'europe': {'UK': 'Washington',\n",
              "  'France': 'Paris',\n",
              "  'Türkiye': 'Ankara',\n",
              "  'Rumania': 'Bucharest',\n",
              "  'Bulgaria': 'Sofia',\n",
              "  'Greece': 'Athens',\n",
              "  'Germany': 'Berlin',\n",
              "  'XYZ': 'London'},\n",
              " 'america': {'Canada': 'Ottawa',\n",
              "  'Peru': 'Lima',\n",
              "  'Mexico': 'Mexico City',\n",
              "  'USA': 'Washington, D.C.'},\n",
              " 'africa': {'Kenya': 'Nairobi',\n",
              "  'Morocco': 'Rabat',\n",
              "  'Nigeria': 'Abuja',\n",
              "  'Madagascar': ' Antananarivo'},\n",
              " 'australia': {'Australia': 'Canberra'}}"
            ]
          },
          "metadata": {},
          "execution_count": 138
        }
      ]
    },
    {
      "cell_type": "code",
      "source": [
        "#) 20 ) İşlemlerinin sonunda hangi ülkeler kalır\n",
        "\n",
        "country_capitals = {'Türkiye': 'Ankara',\n",
        "                    'Germany': 'Berlin',\n",
        "                    'Peru': 'Lima',\n",
        "                    'India': 'New Delhi',\n",
        "                    'Kenya': 'Nairobi',\n",
        "                    'Canada': 'Ottawa',\n",
        "                    'Japan': 'Tokyo'}\n",
        "\n",
        "del country_capitals['Canada']     #  alternatifi: country_capitals.pop('Canada')\n",
        "country_capitals.pop('Peru')\n",
        "country_capitals.popitem()\n",
        "# country_capitals.clear()   # country_capitals collection'unun içi temizlenir\n",
        "# del country_capitals      # country_capitals collecitonu sildi\n",
        "country_capitals"
      ],
      "metadata": {
        "id": "7AJAGnfJUass",
        "colab": {
          "base_uri": "https://localhost:8080/"
        },
        "outputId": "17f00149-6d81-45e5-ac8a-d4267cb3243c"
      },
      "execution_count": null,
      "outputs": [
        {
          "output_type": "execute_result",
          "data": {
            "text/plain": [
              "{'Türkiye': 'Ankara',\n",
              " 'Germany': 'Berlin',\n",
              " 'India': 'New Delhi',\n",
              " 'Kenya': 'Nairobi',\n",
              " 'Japan': 'Tokyo'}"
            ]
          },
          "metadata": {},
          "execution_count": 148
        }
      ]
    },
    {
      "cell_type": "code",
      "source": [
        "# 21) 8, 11, 14 sattırlardaki print function içine dictionary item'i, key ve value'lerini ayrı satırlarda gösterecek methodları kullanın.\n",
        "country_capitals = {'Türkiye': 'Ankara',\n",
        "                    'Germany': 'Berlin',\n",
        "                    'Peru': 'Lima',\n",
        "                    'India' : 'New Delhi'\n",
        "                    }\n",
        "# accesing dictionary items\n",
        "print(country_capitals.items())\n",
        "\n",
        "# accesing dictionary key\n",
        "print(country_capitals.keys())\n",
        "\n",
        "# accesing dictionary value\n",
        "print(country_capitals.values())"
      ],
      "metadata": {
        "id": "Sc17u0ulVqbN",
        "colab": {
          "base_uri": "https://localhost:8080/"
        },
        "outputId": "4c433205-0a45-444f-9c2d-df9256909582"
      },
      "execution_count": null,
      "outputs": [
        {
          "output_type": "stream",
          "name": "stdout",
          "text": [
            "dict_items([('Türkiye', 'Ankara'), ('Germany', 'Berlin'), ('Peru', 'Lima'), ('India', 'New Delhi')])\n",
            "dict_keys(['Türkiye', 'Germany', 'Peru', 'India'])\n",
            "dict_values(['Ankara', 'Berlin', 'Lima', 'New Delhi'])\n"
          ]
        }
      ]
    },
    {
      "cell_type": "code",
      "source": [
        "# 22) Country_capitals'ın anahtar sayısını uygun function kullanarak gösterin.\n",
        "country_capitals = {'Türkiye': 'Ankara',\n",
        "                    'Germany': 'Berlin',\n",
        "                    'Peru': 'Lima',\n",
        "                    'India' : 'New Delhi'\n",
        "                    }\n",
        "len(country_capitals)"
      ],
      "metadata": {
        "id": "qhlb2RC6eio9",
        "colab": {
          "base_uri": "https://localhost:8080/"
        },
        "outputId": "370d8783-d7e6-48d5-d6f1-7fccc155a83f"
      },
      "execution_count": null,
      "outputs": [
        {
          "output_type": "execute_result",
          "data": {
            "text/plain": [
              "4"
            ]
          },
          "metadata": {},
          "execution_count": 164
        }
      ]
    },
    {
      "cell_type": "code",
      "source": [
        "# 23) Country_capitals collection'ın sorted function.'ı uygulananınca ne olur?\n",
        "country_capitals = {'Türkiye': 'Ankara',\n",
        "                    'Germany': 'Berlin',\n",
        "                    'Peru': 'Lima',\n",
        "                    'India' : 'New Delhi'\n",
        "                    }\n",
        "\n",
        "print('Önce:  ', country_capitals)\n",
        "print('Sıralı:' , sorted(country_capitals))\n",
        "print('Sonra: ', country_capitals)\n"
      ],
      "metadata": {
        "id": "wCskWpLr65qk",
        "colab": {
          "base_uri": "https://localhost:8080/"
        },
        "outputId": "d6cc8fda-4d58-4935-e033-99f3bc4db944"
      },
      "execution_count": null,
      "outputs": [
        {
          "output_type": "stream",
          "name": "stdout",
          "text": [
            "Önce:   {'Türkiye': 'Ankara', 'Germany': 'Berlin', 'Peru': 'Lima', 'India': 'New Delhi'}\n",
            "Sıralı: ['Germany', 'India', 'Peru', 'Türkiye']\n",
            "Sonra:  {'Türkiye': 'Ankara', 'Germany': 'Berlin', 'Peru': 'Lima', 'India': 'New Delhi'}\n"
          ]
        }
      ]
    },
    {
      "cell_type": "code",
      "source": [
        "# 24) Country_capitals collection'ın list function'ı uygulananınca ne olur?\n",
        "country_capitals = {'Türkiye': 'Ankara',\n",
        "                    'Germany': 'Berlin',\n",
        "                    'Peru': 'Lima',\n",
        "                    'India' : 'New Delhi'\n",
        "                    }\n",
        "\n",
        "print(country_capitals)\n",
        "print(list(country_capitals))\n",
        "print(country_capitals.keys())\n"
      ],
      "metadata": {
        "id": "DvxW7R7W7Oqc",
        "colab": {
          "base_uri": "https://localhost:8080/"
        },
        "outputId": "b82c56cf-57e8-4ee2-f6c9-cf48c03e9594"
      },
      "execution_count": null,
      "outputs": [
        {
          "output_type": "stream",
          "name": "stdout",
          "text": [
            "{'Türkiye': 'Ankara', 'Germany': 'Berlin', 'Peru': 'Lima', 'India': 'New Delhi'}\n",
            "['Türkiye', 'Germany', 'Peru', 'India']\n",
            "dict_keys(['Türkiye', 'Germany', 'Peru', 'India'])\n"
          ]
        }
      ]
    },
    {
      "cell_type": "code",
      "source": [
        "# 25) Collection'a göre aşağıdaki print sonuçları nelerdir?\n",
        "country_capitals = {'Türkiye': 'Ankara',\n",
        "                    'Germany': 'Berlin',\n",
        "                    'Peru': 'Lima',\n",
        "                    'India' : 'New Delhi'\n",
        "                    }\n",
        "\n",
        "\n",
        "print('Germany' in country_capitals)\n",
        "print('Chine' not in country_capitals)\n",
        "print('India' not in country_capitals)\n",
        "print('Lima' in country_capitals)\n",
        "print('Ankara' in country_capitals.values())"
      ],
      "metadata": {
        "id": "nVIcyzczNGjQ",
        "colab": {
          "base_uri": "https://localhost:8080/"
        },
        "outputId": "9849283f-3e91-4c86-bd10-66ee9ae20bc5"
      },
      "execution_count": null,
      "outputs": [
        {
          "output_type": "stream",
          "name": "stdout",
          "text": [
            "True\n",
            "True\n",
            "False\n",
            "False\n",
            "True\n"
          ]
        }
      ]
    },
    {
      "cell_type": "code",
      "source": [
        "# 26) A) planet key'ine World value'sini ekleyin\n",
        "#     B) Saturn value'si Mars ile değişsin.\n",
        "#     C) number'ın value'si 65 yapın\n",
        "#     D) is_good is_bad olsun\n",
        "\n",
        "mix_values = {'animal': ('dog', 'cat'),  # tuple type\n",
        "              'planet': ['Neptun', 'Saturn', 'Jupiter'],  # list type\n",
        "              'number': 40,  # int type\n",
        "              'pi': 3.14,  # float type\n",
        "              'is_good': True}  # bool type\n",
        "\n",
        "mix_values['planet'].append('World')\n",
        "mix_values['planet'][1] = 'Mars'\n",
        "mix_values['number'] = 65\n",
        "mix_values['is_bad'] = mix_values.pop('is_good')\n",
        "\n",
        "print(mix_values)"
      ],
      "metadata": {
        "id": "IU1HjM1eT6c9",
        "colab": {
          "base_uri": "https://localhost:8080/"
        },
        "outputId": "9acd3add-6431-41f1-8ff7-89a094b9938a"
      },
      "execution_count": null,
      "outputs": [
        {
          "output_type": "stream",
          "name": "stdout",
          "text": [
            "{'animal': ('dog', 'cat'), 'planet': ['Neptun', 'Mars', 'Jupiter', 'World'], 'number': 65, 'pi': 3.14, 'is_bad': True}\n"
          ]
        }
      ]
    },
    {
      "cell_type": "code",
      "source": [
        "# 27) Collectine göre aşağıda print sonuçları?\n",
        "\n",
        "mix_keys = {22 : \"integer\",\n",
        "            1.2 : \"float\",\n",
        "            True : \"boolean\",\n",
        "            \"key\" : \"string\"}\n",
        "\n",
        "\n",
        "print(22 not in mix_keys)\n",
        "print(22 in mix_keys.keys())\n",
        "\n",
        "print(\"integer\" in mix_keys)\n",
        "print(\"integer\" in mix_keys.items())\n",
        "print(\"integer\" not in mix_keys.values())\n",
        "\n",
        "print((22,\"integer\") in mix_keys.items())"
      ],
      "metadata": {
        "id": "mqKvWpWx_r45",
        "colab": {
          "base_uri": "https://localhost:8080/"
        },
        "outputId": "9c13768a-8844-42fc-8317-125de89abc5a"
      },
      "execution_count": null,
      "outputs": [
        {
          "output_type": "stream",
          "name": "stdout",
          "text": [
            "False\n",
            "True\n",
            "False\n",
            "False\n",
            "False\n",
            "True\n"
          ]
        }
      ]
    },
    {
      "cell_type": "code",
      "source": [
        "# PreClass Homework\n",
        "# How can we access and print Lisa’s age? Write the syntax.\n",
        "customers = {\n",
        "    'bank': \n",
        "      {1: {'name': 'James', 'age': '27', 'sex': 'Male'},\n",
        "       2: {'name': 'Nicole', 'age': '25', 'sex': 'Female'},\n",
        "       3: {'name': 'Andy', 'age': '38', 'sex': 'Male'},\n",
        "       4: {'name': 'Alex', 'age': '19', 'sex': 'Male'},\n",
        "       5: {'name': 'Linda', 'age': '33', 'sex': 'Female'}, \n",
        "      },\n",
        "     'insurance':\n",
        "      {1: {'name': 'Jashua', 'age': '33', 'sex': 'Male'},\n",
        "       2: {'name': 'Marry', 'age': '66', 'sex': 'Female'},\n",
        "       3: {'name': 'Adam', 'age': '56', 'sex': 'Male'},\n",
        "       4: {'name': 'Samuel', 'age': '54', 'sex': 'Male'},\n",
        "       5: {'name': 'Lisa', 'age': '22', 'sex': 'Female'},\n",
        "      },\n",
        "}\n",
        "\n",
        "customers['insurance'][5]['age']"
      ],
      "metadata": {
        "id": "HMXFBQlMRuKN",
        "colab": {
          "base_uri": "https://localhost:8080/",
          "height": 35
        },
        "outputId": "99e8c700-7567-4ff9-df19-b1d172223b54"
      },
      "execution_count": null,
      "outputs": [
        {
          "output_type": "execute_result",
          "data": {
            "text/plain": [
              "'22'"
            ],
            "application/vnd.google.colaboratory.intrinsic+json": {
              "type": "string"
            }
          },
          "metadata": {},
          "execution_count": 170
        }
      ]
    }
  ]
}