{
  "nbformat": 4,
  "nbformat_minor": 0,
  "metadata": {
    "colab": {
      "provenance": [],
      "authorship_tag": "ABX9TyPk9WTp2hMu+run3MVkbgn6",
      "include_colab_link": true
    },
    "kernelspec": {
      "name": "python3",
      "display_name": "Python 3"
    },
    "language_info": {
      "name": "python"
    }
  },
  "cells": [
    {
      "cell_type": "markdown",
      "metadata": {
        "id": "view-in-github",
        "colab_type": "text"
      },
      "source": [
        "<a href=\"https://colab.research.google.com/github/safiyeolgun/git-2/blob/main/Students_Labs_04132023.ipynb\" target=\"_parent\"><img src=\"https://colab.research.google.com/assets/colab-badge.svg\" alt=\"Open In Colab\"/></a>"
      ]
    },
    {
      "cell_type": "code",
      "execution_count": 6,
      "metadata": {
        "id": "PNCqDyxYVCZP",
        "colab": {
          "base_uri": "https://localhost:8080/"
        },
        "outputId": "51bdd1f5-dc12-4117-f87c-3500efbfe04c"
      },
      "outputs": [
        {
          "output_type": "stream",
          "name": "stdout",
          "text": [
            "25\n",
            "30\n",
            "<class 'int'>\n"
          ]
        }
      ],
      "source": [
        "# Aşağıda geçen user-defined function'a 5, 20 argumanları ile 8. satırda çağırın ve sonra ekranda yazdırın\n",
        "\n",
        "\n",
        "\n",
        "def toplam(a, b):\n",
        "  return(a+b)\n",
        "\n",
        "x = toplam(5, 20)\n",
        "print(toplam(5, 20))\n",
        "print(x)\n",
        "print(type(x))\n"
      ]
    },
    {
      "cell_type": "code",
      "source": [
        "# Aşağıda geçen user-defined function'a 5, 20 argumanları ile 3.satırda çağırın ve sonra ekranda yazdırın\n",
        "\n",
        "print(toplam1(5,20))  # Hata\n",
        "\n",
        "def toplam1(a, b):\n",
        "  return (a+b)\n",
        "\n",
        "# print(type(toplam1))\n",
        "\n",
        "print(toplam(5, 20))\n"
      ],
      "metadata": {
        "id": "IVFb7F2uVcR6",
        "colab": {
          "base_uri": "https://localhost:8080/"
        },
        "outputId": "b9a0876a-6663-4d78-a3aa-fbdccc4405ce"
      },
      "execution_count": 5,
      "outputs": [
        {
          "output_type": "stream",
          "name": "stdout",
          "text": [
            "25\n",
            "25\n"
          ]
        }
      ]
    },
    {
      "cell_type": "code",
      "source": [
        "# Aşağıda geçen user-defined function'a 3 parametre alacak işlemi güncelleyin\n",
        "\n",
        "def toplam(a, b, c):\n",
        "  return (a+b+c)\n",
        "\n",
        "x = toplam(1, 3, 5)\n",
        "print(x)"
      ],
      "metadata": {
        "id": "B1YLsnJkV1Yi",
        "colab": {
          "base_uri": "https://localhost:8080/"
        },
        "outputId": "829cad8f-bba8-45f1-9557-8e3a8171d75d"
      },
      "execution_count": 20,
      "outputs": [
        {
          "output_type": "stream",
          "name": "stdout",
          "text": [
            "9\n"
          ]
        }
      ]
    },
    {
      "cell_type": "code",
      "source": [
        "def toplam(a, b, c):\n",
        "  return (a+b+c)\n",
        "\n",
        "x = toplam('Ali', 'Veli', 23)  # hatalı\n",
        "# print(*x)"
      ],
      "metadata": {
        "id": "MVFyOaMGmveI"
      },
      "execution_count": null,
      "outputs": []
    },
    {
      "cell_type": "code",
      "source": [
        "def toplam(a, b, c):\n",
        "  return (a+b+c)\n",
        "\n",
        "x = toplam('Ali', 'Veli', str(23))\n",
        "# print(*x)"
      ],
      "metadata": {
        "id": "mWZviYPQmNKL"
      },
      "execution_count": null,
      "outputs": []
    },
    {
      "cell_type": "code",
      "source": [
        "def toplam(a, b, c):\n",
        "  return (a+b+c)\n",
        "\n",
        "x = toplam(3, 4, '5')  # hatalı \n",
        "print(x)"
      ],
      "metadata": {
        "colab": {
          "base_uri": "https://localhost:8080/"
        },
        "id": "fZ7ZqPz-maeo",
        "outputId": "037ec081-b00d-49bf-8df5-0b73910f121d"
      },
      "execution_count": 22,
      "outputs": [
        {
          "output_type": "stream",
          "name": "stdout",
          "text": [
            "12\n"
          ]
        }
      ]
    },
    {
      "cell_type": "code",
      "source": [
        "def toplam(a, b, c):\n",
        "  return (a+b+c)\n",
        "\n",
        "x = toplam(3, 4, int('5'))\n",
        "print(x)"
      ],
      "metadata": {
        "id": "kpZ_dPMvmlO3"
      },
      "execution_count": null,
      "outputs": []
    },
    {
      "cell_type": "code",
      "source": [
        "def toplam(a, b, c):\n",
        "  return (a+b+c)\n",
        "\n",
        "x = toplam(3, 4, int('Ali'))  # toplama işlemi yapılırken tüm argümanların sayısal ve aynı veri türünde olması gerkiyor\n",
        "print(x)"
      ],
      "metadata": {
        "colab": {
          "base_uri": "https://localhost:8080/",
          "height": 217
        },
        "id": "TGoa0Pahm6n-",
        "outputId": "6b73c64b-adf2-4cf4-f2dc-55ab3b1a95ab"
      },
      "execution_count": 23,
      "outputs": [
        {
          "output_type": "error",
          "ename": "ValueError",
          "evalue": "ignored",
          "traceback": [
            "\u001b[0;31m---------------------------------------------------------------------------\u001b[0m",
            "\u001b[0;31mValueError\u001b[0m                                Traceback (most recent call last)",
            "\u001b[0;32m<ipython-input-23-3fc846ebfb97>\u001b[0m in \u001b[0;36m<cell line: 4>\u001b[0;34m()\u001b[0m\n\u001b[1;32m      2\u001b[0m   \u001b[0;32mreturn\u001b[0m \u001b[0;34m(\u001b[0m\u001b[0ma\u001b[0m\u001b[0;34m+\u001b[0m\u001b[0mb\u001b[0m\u001b[0;34m+\u001b[0m\u001b[0mc\u001b[0m\u001b[0;34m)\u001b[0m\u001b[0;34m\u001b[0m\u001b[0;34m\u001b[0m\u001b[0m\n\u001b[1;32m      3\u001b[0m \u001b[0;34m\u001b[0m\u001b[0m\n\u001b[0;32m----> 4\u001b[0;31m \u001b[0mx\u001b[0m \u001b[0;34m=\u001b[0m \u001b[0mtoplam\u001b[0m\u001b[0;34m(\u001b[0m\u001b[0;36m3\u001b[0m\u001b[0;34m,\u001b[0m \u001b[0;36m4\u001b[0m\u001b[0;34m,\u001b[0m \u001b[0mint\u001b[0m\u001b[0;34m(\u001b[0m\u001b[0;34m'Ali'\u001b[0m\u001b[0;34m)\u001b[0m\u001b[0;34m)\u001b[0m\u001b[0;34m\u001b[0m\u001b[0;34m\u001b[0m\u001b[0m\n\u001b[0m\u001b[1;32m      5\u001b[0m \u001b[0mprint\u001b[0m\u001b[0;34m(\u001b[0m\u001b[0mx\u001b[0m\u001b[0;34m)\u001b[0m\u001b[0;34m\u001b[0m\u001b[0;34m\u001b[0m\u001b[0m\n",
            "\u001b[0;31mValueError\u001b[0m: invalid literal for int() with base 10: 'Ali'"
          ]
        }
      ]
    },
    {
      "cell_type": "code",
      "source": [
        "def toplam(a, b, c):\n",
        "  return (a+b)\n",
        "\n",
        "print(toplam('ali', '2', 3))\n"
      ],
      "metadata": {
        "colab": {
          "base_uri": "https://localhost:8080/"
        },
        "id": "207rvrLRnNfq",
        "outputId": "95b75569-7ff1-45f8-9179-97475ede2df3"
      },
      "execution_count": 33,
      "outputs": [
        {
          "output_type": "stream",
          "name": "stdout",
          "text": [
            "ali2\n"
          ]
        }
      ]
    },
    {
      "cell_type": "code",
      "source": [
        "def toplam(a, b, c):\n",
        "  return (a+b)\n",
        "  \n",
        "toplam('ali', '2', 3, 24)   # hata olmayan 24 argümanı var"
      ],
      "metadata": {
        "colab": {
          "base_uri": "https://localhost:8080/",
          "height": 200
        },
        "id": "tP5krhazoQFz",
        "outputId": "269322a3-27c1-4979-c4b3-fac91ab8aa4e"
      },
      "execution_count": 80,
      "outputs": [
        {
          "output_type": "error",
          "ename": "TypeError",
          "evalue": "ignored",
          "traceback": [
            "\u001b[0;31m---------------------------------------------------------------------------\u001b[0m",
            "\u001b[0;31mTypeError\u001b[0m                                 Traceback (most recent call last)",
            "\u001b[0;32m<ipython-input-80-1c50d1fcea98>\u001b[0m in \u001b[0;36m<cell line: 4>\u001b[0;34m()\u001b[0m\n\u001b[1;32m      2\u001b[0m   \u001b[0;32mreturn\u001b[0m \u001b[0;34m(\u001b[0m\u001b[0ma\u001b[0m\u001b[0;34m+\u001b[0m\u001b[0mb\u001b[0m\u001b[0;34m)\u001b[0m\u001b[0;34m\u001b[0m\u001b[0;34m\u001b[0m\u001b[0m\n\u001b[1;32m      3\u001b[0m \u001b[0;34m\u001b[0m\u001b[0m\n\u001b[0;32m----> 4\u001b[0;31m \u001b[0mtoplam\u001b[0m\u001b[0;34m(\u001b[0m\u001b[0;34m'ali'\u001b[0m\u001b[0;34m,\u001b[0m \u001b[0;34m'2'\u001b[0m\u001b[0;34m,\u001b[0m \u001b[0;36m3\u001b[0m\u001b[0;34m,\u001b[0m \u001b[0;36m24\u001b[0m\u001b[0;34m)\u001b[0m   \u001b[0;31m# hata\u001b[0m\u001b[0;34m\u001b[0m\u001b[0;34m\u001b[0m\u001b[0m\n\u001b[0m",
            "\u001b[0;31mTypeError\u001b[0m: toplam() takes 3 positional arguments but 4 were given"
          ]
        }
      ]
    },
    {
      "cell_type": "code",
      "source": [
        "def toplam(a, b, c, d):\n",
        "  return (a+b)\n",
        "  \n",
        "toplam('ali', '2', 3, 24) "
      ],
      "metadata": {
        "colab": {
          "base_uri": "https://localhost:8080/",
          "height": 35
        },
        "id": "gBxLxmWpogX1",
        "outputId": "b447141f-682f-4dea-df52-5ce33a6a80f1"
      },
      "execution_count": 81,
      "outputs": [
        {
          "output_type": "execute_result",
          "data": {
            "text/plain": [
              "'ali2'"
            ],
            "application/vnd.google.colaboratory.intrinsic+json": {
              "type": "string"
            }
          },
          "metadata": {},
          "execution_count": 81
        }
      ]
    },
    {
      "cell_type": "code",
      "source": [
        "def toplam(a, b, c):\n",
        "  return (a+b+c)       \n",
        "  \n",
        "toplam('ali', '2', 3)  # hata, ilk iki argüman string olunca string toplama için devamındaki 3. argümanında string olmasını bekliyor"
      ],
      "metadata": {
        "colab": {
          "base_uri": "https://localhost:8080/",
          "height": 304
        },
        "id": "WVKl4x56n-At",
        "outputId": "9d8bf0b2-ee96-4e92-e9d2-e91cc7a32db6"
      },
      "execution_count": 82,
      "outputs": [
        {
          "output_type": "error",
          "ename": "TypeError",
          "evalue": "ignored",
          "traceback": [
            "\u001b[0;31m---------------------------------------------------------------------------\u001b[0m",
            "\u001b[0;31mTypeError\u001b[0m                                 Traceback (most recent call last)",
            "\u001b[0;32m<ipython-input-82-a49df69f24a3>\u001b[0m in \u001b[0;36m<cell line: 4>\u001b[0;34m()\u001b[0m\n\u001b[1;32m      2\u001b[0m   \u001b[0;32mreturn\u001b[0m \u001b[0;34m(\u001b[0m\u001b[0ma\u001b[0m\u001b[0;34m+\u001b[0m\u001b[0mb\u001b[0m\u001b[0;34m+\u001b[0m\u001b[0mc\u001b[0m\u001b[0;34m)\u001b[0m\u001b[0;34m\u001b[0m\u001b[0;34m\u001b[0m\u001b[0m\n\u001b[1;32m      3\u001b[0m \u001b[0;34m\u001b[0m\u001b[0m\n\u001b[0;32m----> 4\u001b[0;31m \u001b[0mtoplam\u001b[0m\u001b[0;34m(\u001b[0m\u001b[0;34m'ali'\u001b[0m\u001b[0;34m,\u001b[0m \u001b[0;34m'2'\u001b[0m\u001b[0;34m,\u001b[0m \u001b[0;36m3\u001b[0m\u001b[0;34m)\u001b[0m  \u001b[0;31m# hata\u001b[0m\u001b[0;34m\u001b[0m\u001b[0;34m\u001b[0m\u001b[0m\n\u001b[0m",
            "\u001b[0;32m<ipython-input-82-a49df69f24a3>\u001b[0m in \u001b[0;36mtoplam\u001b[0;34m(a, b, c)\u001b[0m\n\u001b[1;32m      1\u001b[0m \u001b[0;32mdef\u001b[0m \u001b[0mtoplam\u001b[0m\u001b[0;34m(\u001b[0m\u001b[0ma\u001b[0m\u001b[0;34m,\u001b[0m \u001b[0mb\u001b[0m\u001b[0;34m,\u001b[0m \u001b[0mc\u001b[0m\u001b[0;34m)\u001b[0m\u001b[0;34m:\u001b[0m\u001b[0;34m\u001b[0m\u001b[0;34m\u001b[0m\u001b[0m\n\u001b[0;32m----> 2\u001b[0;31m   \u001b[0;32mreturn\u001b[0m \u001b[0;34m(\u001b[0m\u001b[0ma\u001b[0m\u001b[0;34m+\u001b[0m\u001b[0mb\u001b[0m\u001b[0;34m+\u001b[0m\u001b[0mc\u001b[0m\u001b[0;34m)\u001b[0m\u001b[0;34m\u001b[0m\u001b[0;34m\u001b[0m\u001b[0m\n\u001b[0m\u001b[1;32m      3\u001b[0m \u001b[0;34m\u001b[0m\u001b[0m\n\u001b[1;32m      4\u001b[0m \u001b[0mtoplam\u001b[0m\u001b[0;34m(\u001b[0m\u001b[0;34m'ali'\u001b[0m\u001b[0;34m,\u001b[0m \u001b[0;34m'2'\u001b[0m\u001b[0;34m,\u001b[0m \u001b[0;36m3\u001b[0m\u001b[0;34m)\u001b[0m  \u001b[0;31m# hata\u001b[0m\u001b[0;34m\u001b[0m\u001b[0;34m\u001b[0m\u001b[0m\n",
            "\u001b[0;31mTypeError\u001b[0m: can only concatenate str (not \"int\") to str"
          ]
        }
      ]
    },
    {
      "cell_type": "code",
      "source": [
        "def toplam(a, b, c, d):\n",
        "  return (b+d)   \n",
        "  \n",
        "print(toplam('ali', 3, True, 24.3))"
      ],
      "metadata": {
        "colab": {
          "base_uri": "https://localhost:8080/"
        },
        "id": "uv2CNTVQosUM",
        "outputId": "69ff2e00-7395-4bbc-8cd7-b76d3ef3318b"
      },
      "execution_count": 83,
      "outputs": [
        {
          "output_type": "stream",
          "name": "stdout",
          "text": [
            "27.3\n"
          ]
        }
      ]
    },
    {
      "cell_type": "code",
      "source": [
        "# Aşağıda geçen user-defined function'a None değeri gönderip, sonucu fonksiyon içinde yazdıracak şekilde yeniden düzenleyin\n",
        "\n",
        "def toplam(a, b):\n",
        "  print(a+b)\n",
        "\n",
        "x = toplam(3,6)\n",
        "print(x)\n",
        "print(toplam(3,6))\n",
        "\n"
      ],
      "metadata": {
        "id": "9NyuhbDVWF8n",
        "colab": {
          "base_uri": "https://localhost:8080/"
        },
        "outputId": "bcda54a4-a8c0-4483-8107-ff6bbb9c3984"
      },
      "execution_count": 37,
      "outputs": [
        {
          "output_type": "stream",
          "name": "stdout",
          "text": [
            "9\n",
            "None\n",
            "9\n",
            "None\n"
          ]
        }
      ]
    },
    {
      "cell_type": "code",
      "source": [
        "print(print('5'))  # önce içteki print çalışır ve  print('5') = None elde edilince, sonra dıştaki print şuna dönüşür print(None)"
      ],
      "metadata": {
        "colab": {
          "base_uri": "https://localhost:8080/"
        },
        "id": "Qm73l45CqUz3",
        "outputId": "9704a918-33f8-4da4-9b78-bfb146228151"
      },
      "execution_count": 84,
      "outputs": [
        {
          "output_type": "stream",
          "name": "stdout",
          "text": [
            "5\n",
            "None\n",
            "None\n"
          ]
        }
      ]
    },
    {
      "cell_type": "code",
      "source": [
        "x = print('5')\n",
        "print(x)\n"
      ],
      "metadata": {
        "colab": {
          "base_uri": "https://localhost:8080/"
        },
        "id": "VoYJ91GLqmX1",
        "outputId": "0fcf3fd5-632d-4c35-d7ba-57a5923feb5d"
      },
      "execution_count": 39,
      "outputs": [
        {
          "output_type": "stream",
          "name": "stdout",
          "text": [
            "5\n",
            "None\n"
          ]
        }
      ]
    },
    {
      "cell_type": "code",
      "source": [
        "# Aşağıdaki built-in functions'da positional arguments ve keyword arguments'leri bulun\n",
        "\n",
        "print('{} {} {}'.format('Zeynep', 'Açık',45))\n"
      ],
      "metadata": {
        "id": "h8YX9DMrW7PU",
        "colab": {
          "base_uri": "https://localhost:8080/"
        },
        "outputId": "4e9abfc0-8e98-4f82-ab99-3a1b144d138b"
      },
      "execution_count": 40,
      "outputs": [
        {
          "output_type": "stream",
          "name": "stdout",
          "text": [
            "Zeynep Açık 45\n"
          ]
        }
      ]
    },
    {
      "cell_type": "code",
      "source": [
        "# Aşağıdaki built-in functions'da positional arguments ve keyword arguments'leri bulun\n",
        "\n",
        "print('{2} {0} {1}'.format('Açık', 45, 'Zeynep'))\n"
      ],
      "metadata": {
        "id": "Ji3Jp0kwYU2e",
        "colab": {
          "base_uri": "https://localhost:8080/"
        },
        "outputId": "7e7f3985-53b6-4fec-8a96-590eb327d384"
      },
      "execution_count": 41,
      "outputs": [
        {
          "output_type": "stream",
          "name": "stdout",
          "text": [
            "Zeynep Açık 45\n"
          ]
        }
      ]
    },
    {
      "cell_type": "code",
      "source": [
        "# Aşağıdaki built-in functions'da positional arguments ve keyword arguments'leri bulun\n",
        "\n",
        "print('{ad} {soyad} {yas}'.format(soyad = 'Açık', ad = 'Zeynep', yas = 45))\n"
      ],
      "metadata": {
        "id": "HwwBzvQlWs9N",
        "colab": {
          "base_uri": "https://localhost:8080/"
        },
        "outputId": "84fe374e-b5a2-4e48-f08f-8f8868667eb7"
      },
      "execution_count": 42,
      "outputs": [
        {
          "output_type": "stream",
          "name": "stdout",
          "text": [
            "Zeynep Açık 45\n"
          ]
        }
      ]
    },
    {
      "cell_type": "code",
      "source": [
        "print('{ad} {soyad} {yas}'.format(ad = 'Zeynep', soyad = 'Açık',  yas = 45))"
      ],
      "metadata": {
        "colab": {
          "base_uri": "https://localhost:8080/"
        },
        "id": "uORiNqqJruF4",
        "outputId": "c65153b3-7536-4c98-f0f0-d197a9f8b8c5"
      },
      "execution_count": 43,
      "outputs": [
        {
          "output_type": "stream",
          "name": "stdout",
          "text": [
            "Zeynep Açık 45\n"
          ]
        }
      ]
    },
    {
      "cell_type": "code",
      "source": [
        "# Aşağıdaki built-in functions'da positional arguments ve keyword arguments'leri bulun\n",
        "\n",
        "print('{ad} {soyad} {0}'.format(45, soyad = 'Açık', ad = 'Zeynep'))\n"
      ],
      "metadata": {
        "id": "kzwpAwQKW2gg",
        "colab": {
          "base_uri": "https://localhost:8080/"
        },
        "outputId": "bda6352e-51f5-43e7-965b-d411baf38daf"
      },
      "execution_count": 44,
      "outputs": [
        {
          "output_type": "stream",
          "name": "stdout",
          "text": [
            "Zeynep Açık 45\n"
          ]
        }
      ]
    },
    {
      "cell_type": "code",
      "source": [
        "print('{ad} {soyad} {}'.format( soyad = 'Açık', ad = 'Zeynep', 45))  # hata mix argüman kullanımında format içerisinde positional argümanlar keyword argumandan önce gelmeli\n"
      ],
      "metadata": {
        "colab": {
          "base_uri": "https://localhost:8080/",
          "height": 130
        },
        "id": "GFf7draDsHnA",
        "outputId": "9ccc3fd4-31a6-447c-b1b5-6bfe93345922"
      },
      "execution_count": 85,
      "outputs": [
        {
          "output_type": "error",
          "ename": "SyntaxError",
          "evalue": "ignored",
          "traceback": [
            "\u001b[0;36m  File \u001b[0;32m\"<ipython-input-85-e857e89e21bc>\"\u001b[0;36m, line \u001b[0;32m1\u001b[0m\n\u001b[0;31m    print('{ad} {soyad} {}'.format( soyad = 'Açık', ad = 'Zeynep', 45))\u001b[0m\n\u001b[0m                                                                     ^\u001b[0m\n\u001b[0;31mSyntaxError\u001b[0m\u001b[0;31m:\u001b[0m positional argument follows keyword argument\n"
          ]
        }
      ]
    },
    {
      "cell_type": "code",
      "source": [
        "print('{ad} {soyad} {0}'.format( soyad = 'Açık', ad = 'Zeynep', 45))  # hata mix argüman kullanımında format içerisinde positional argümanlar keyword argumandan önce gelmeli"
      ],
      "metadata": {
        "colab": {
          "base_uri": "https://localhost:8080/",
          "height": 130
        },
        "id": "ylKMdXA8spDR",
        "outputId": "0e2afb6e-e44a-4465-d261-23a701f30eba"
      },
      "execution_count": 86,
      "outputs": [
        {
          "output_type": "error",
          "ename": "SyntaxError",
          "evalue": "ignored",
          "traceback": [
            "\u001b[0;36m  File \u001b[0;32m\"<ipython-input-86-baa8eaef9300>\"\u001b[0;36m, line \u001b[0;32m1\u001b[0m\n\u001b[0;31m    print('{ad} {soyad} {0}'.format( soyad = 'Açık', ad = 'Zeynep', 45))  # hata # ilk positional sonra keyword arguman kullanılabilir\u001b[0m\n\u001b[0m                                                                      ^\u001b[0m\n\u001b[0;31mSyntaxError\u001b[0m\u001b[0;31m:\u001b[0m positional argument follows keyword argument\n"
          ]
        }
      ]
    },
    {
      "cell_type": "code",
      "source": [
        "print('{2} {ad} {soyad} '.format( soyad = 'Açık', ad = 'Zeynep', 45))  # # hata mix argüman kullanımında format içerisinde positional argümanlar keyword argumandan önce gelmeli"
      ],
      "metadata": {
        "colab": {
          "base_uri": "https://localhost:8080/",
          "height": 130
        },
        "id": "uCofbFd0sps7",
        "outputId": "bfecb831-f843-4faa-cec3-823e02f24101"
      },
      "execution_count": 87,
      "outputs": [
        {
          "output_type": "error",
          "ename": "SyntaxError",
          "evalue": "ignored",
          "traceback": [
            "\u001b[0;36m  File \u001b[0;32m\"<ipython-input-87-824df67a9cf7>\"\u001b[0;36m, line \u001b[0;32m1\u001b[0m\n\u001b[0;31m    print('{2} {ad} {soyad} '.format( soyad = 'Açık', ad = 'Zeynep', 45))  # hata\u001b[0m\n\u001b[0m                                                                       ^\u001b[0m\n\u001b[0;31mSyntaxError\u001b[0m\u001b[0;31m:\u001b[0m positional argument follows keyword argument\n"
          ]
        }
      ]
    },
    {
      "cell_type": "code",
      "source": [
        "print('{0} {ad} {soyad} '.format(45, soyad = 'Açık', ad = 'Zeynep')) "
      ],
      "metadata": {
        "colab": {
          "base_uri": "https://localhost:8080/"
        },
        "id": "vbRlBN9DtOpS",
        "outputId": "e7965611-fb10-42ce-cfbb-fb03c9be92f8"
      },
      "execution_count": 51,
      "outputs": [
        {
          "output_type": "stream",
          "name": "stdout",
          "text": [
            "45 Zeynep Açık \n"
          ]
        }
      ]
    },
    {
      "cell_type": "code",
      "source": [
        "# Aşağıda geçen user-defined function'da positional arguments ve keyword arguments'leri bulun\n",
        "\n",
        "def toplam(a, b, c, d ):\n",
        "  return (a+b+c+d)\n",
        "\n",
        "\n",
        "sonuc = toplam(1, 6 , 7, 9)\n",
        "\n",
        "print(sonuc)\n"
      ],
      "metadata": {
        "id": "cyTF8aLAYw1w",
        "colab": {
          "base_uri": "https://localhost:8080/"
        },
        "outputId": "ee23769a-2e20-4176-b287-e04c580fa9f9"
      },
      "execution_count": 54,
      "outputs": [
        {
          "output_type": "execute_result",
          "data": {
            "text/plain": [
              "23"
            ]
          },
          "metadata": {},
          "execution_count": 54
        }
      ]
    },
    {
      "cell_type": "code",
      "source": [
        "def toplam(a, b, c, d ):\n",
        "  return (a+b+c+d)\n",
        "\n",
        "\n",
        "sonuc = toplam( a = 1, b = 6, c = 7, d = 9)\n",
        "\n",
        "print(sonuc)"
      ],
      "metadata": {
        "id": "tobqlRAAyMA8"
      },
      "execution_count": null,
      "outputs": []
    },
    {
      "cell_type": "code",
      "source": [
        "# Aşağıda geçen user-defined function'da positional arguments ve keyword arguments'leri bulun\n",
        "\n",
        "def toplam(a, b, c, d ):\n",
        "  return (a+b+c+d)\n",
        "\n",
        "\n",
        "sonuc = toplam(b = 6, d = 9 , a = 1, c = 7)\n",
        "\n",
        "print(sonuc)"
      ],
      "metadata": {
        "id": "QOZLfZ6zYxTP",
        "colab": {
          "base_uri": "https://localhost:8080/"
        },
        "outputId": "49a0905e-494d-44fb-9a0d-62f8e8d80448"
      },
      "execution_count": 56,
      "outputs": [
        {
          "output_type": "stream",
          "name": "stdout",
          "text": [
            "23\n"
          ]
        }
      ]
    },
    {
      "cell_type": "code",
      "source": [
        "def toplam(a, b, c ):\n",
        "  return (a+b+c)\n",
        "\n",
        "\n",
        "sonuc = toplam(b = 6, d = 9 , a = 1)  # hatalı olmayan d keywordine değer girilmiş\n",
        "\n",
        "print(sonuc)"
      ],
      "metadata": {
        "colab": {
          "base_uri": "https://localhost:8080/",
          "height": 235
        },
        "id": "XeyWUmVzyJRT",
        "outputId": "e05b39cf-c872-45f5-ce7a-2078dd745491"
      },
      "execution_count": 57,
      "outputs": [
        {
          "output_type": "error",
          "ename": "TypeError",
          "evalue": "ignored",
          "traceback": [
            "\u001b[0;31m---------------------------------------------------------------------------\u001b[0m",
            "\u001b[0;31mTypeError\u001b[0m                                 Traceback (most recent call last)",
            "\u001b[0;32m<ipython-input-57-44309a735755>\u001b[0m in \u001b[0;36m<cell line: 5>\u001b[0;34m()\u001b[0m\n\u001b[1;32m      3\u001b[0m \u001b[0;34m\u001b[0m\u001b[0m\n\u001b[1;32m      4\u001b[0m \u001b[0;34m\u001b[0m\u001b[0m\n\u001b[0;32m----> 5\u001b[0;31m \u001b[0msonuc\u001b[0m \u001b[0;34m=\u001b[0m \u001b[0mtoplam\u001b[0m\u001b[0;34m(\u001b[0m\u001b[0mb\u001b[0m \u001b[0;34m=\u001b[0m \u001b[0;36m6\u001b[0m\u001b[0;34m,\u001b[0m \u001b[0md\u001b[0m \u001b[0;34m=\u001b[0m \u001b[0;36m9\u001b[0m \u001b[0;34m,\u001b[0m \u001b[0ma\u001b[0m \u001b[0;34m=\u001b[0m \u001b[0;36m1\u001b[0m\u001b[0;34m)\u001b[0m\u001b[0;34m\u001b[0m\u001b[0;34m\u001b[0m\u001b[0m\n\u001b[0m\u001b[1;32m      6\u001b[0m \u001b[0;34m\u001b[0m\u001b[0m\n\u001b[1;32m      7\u001b[0m \u001b[0mprint\u001b[0m\u001b[0;34m(\u001b[0m\u001b[0msonuc\u001b[0m\u001b[0;34m)\u001b[0m\u001b[0;34m\u001b[0m\u001b[0;34m\u001b[0m\u001b[0m\n",
            "\u001b[0;31mTypeError\u001b[0m: toplam() got an unexpected keyword argument 'd'"
          ]
        }
      ]
    },
    {
      "cell_type": "code",
      "source": [
        "def toplam(a, b, c ):\n",
        "  return (a+b+c)\n",
        "\n",
        "\n",
        "sonuc = toplam(b = 6, c = 9 , a = 1)\n",
        "\n",
        "print(sonuc)"
      ],
      "metadata": {
        "colab": {
          "base_uri": "https://localhost:8080/"
        },
        "id": "_DUzwcSMzOSi",
        "outputId": "cbdedee3-f85b-46ba-9315-b3e6d92b9793"
      },
      "execution_count": 58,
      "outputs": [
        {
          "output_type": "stream",
          "name": "stdout",
          "text": [
            "16\n"
          ]
        }
      ]
    },
    {
      "cell_type": "code",
      "source": [
        "# Aşağıda geçen user-defined function'da positional arguments ve keyword arguments'leri bulun, bu kodun hata verip vermeyeceğini inceleyin\n",
        "\n",
        "def toplam(a, b, c, d ):\n",
        "  return (a+b+c+d)\n",
        "\n",
        "\n",
        "sonuc = toplam(b = 1, d = 6 , 9, a = 7) # hata mix kullanımda önce positional sonra keyword arguman kullanılmalıydı\n"
      ],
      "metadata": {
        "id": "2gJ2m6COa5Cp",
        "colab": {
          "base_uri": "https://localhost:8080/",
          "height": 130
        },
        "outputId": "5f1bb252-e4ff-4da2-8835-8e3aa4ee4a79"
      },
      "execution_count": 59,
      "outputs": [
        {
          "output_type": "error",
          "ename": "SyntaxError",
          "evalue": "ignored",
          "traceback": [
            "\u001b[0;36m  File \u001b[0;32m\"<ipython-input-59-d485ebbef315>\"\u001b[0;36m, line \u001b[0;32m7\u001b[0m\n\u001b[0;31m    sonuc = toplam(b = 1, d = 6 , 9, a = 7) # kontrol edin\u001b[0m\n\u001b[0m                                          ^\u001b[0m\n\u001b[0;31mSyntaxError\u001b[0m\u001b[0;31m:\u001b[0m positional argument follows keyword argument\n"
          ]
        }
      ]
    },
    {
      "cell_type": "code",
      "source": [
        "def toplam(a, b, c, d ):\n",
        "  return (a+b+c+d)\n",
        "\n",
        "\n",
        "sonuc = toplam(9, b = 1, d = 6 , a = 7)  # hata a parametresinin karşılığı 2 kez argüman atanmış, 9 ve 7, tek atanması gerekiyor"
      ],
      "metadata": {
        "colab": {
          "base_uri": "https://localhost:8080/",
          "height": 200
        },
        "id": "OsiCgIoo0GLL",
        "outputId": "d7436d99-c182-419f-9969-a9bf16ad2577"
      },
      "execution_count": 88,
      "outputs": [
        {
          "output_type": "error",
          "ename": "TypeError",
          "evalue": "ignored",
          "traceback": [
            "\u001b[0;31m---------------------------------------------------------------------------\u001b[0m",
            "\u001b[0;31mTypeError\u001b[0m                                 Traceback (most recent call last)",
            "\u001b[0;32m<ipython-input-88-e8caf09edecb>\u001b[0m in \u001b[0;36m<cell line: 5>\u001b[0;34m()\u001b[0m\n\u001b[1;32m      3\u001b[0m \u001b[0;34m\u001b[0m\u001b[0m\n\u001b[1;32m      4\u001b[0m \u001b[0;34m\u001b[0m\u001b[0m\n\u001b[0;32m----> 5\u001b[0;31m \u001b[0msonuc\u001b[0m \u001b[0;34m=\u001b[0m \u001b[0mtoplam\u001b[0m\u001b[0;34m(\u001b[0m\u001b[0;36m9\u001b[0m\u001b[0;34m,\u001b[0m \u001b[0mb\u001b[0m \u001b[0;34m=\u001b[0m \u001b[0;36m1\u001b[0m\u001b[0;34m,\u001b[0m \u001b[0md\u001b[0m \u001b[0;34m=\u001b[0m \u001b[0;36m6\u001b[0m \u001b[0;34m,\u001b[0m \u001b[0ma\u001b[0m \u001b[0;34m=\u001b[0m \u001b[0;36m7\u001b[0m\u001b[0;34m)\u001b[0m\u001b[0;34m\u001b[0m\u001b[0;34m\u001b[0m\u001b[0m\n\u001b[0m",
            "\u001b[0;31mTypeError\u001b[0m: toplam() got multiple values for argument 'a'"
          ]
        }
      ]
    },
    {
      "cell_type": "code",
      "source": [
        "def toplam(a, b, c, d ):\n",
        "  return (a+b+c+d)\n",
        "\n",
        "\n",
        "sonuc = toplam(9, b = 1, d = 6 , c = 7)\n",
        "print(sonuc)"
      ],
      "metadata": {
        "colab": {
          "base_uri": "https://localhost:8080/"
        },
        "id": "tIKjKFrK0cZU",
        "outputId": "fa65cec6-8add-4d85-c7ed-0dbfb8f0bd62"
      },
      "execution_count": 89,
      "outputs": [
        {
          "output_type": "stream",
          "name": "stdout",
          "text": [
            "23\n"
          ]
        }
      ]
    },
    {
      "cell_type": "code",
      "source": [
        "def toplam(a, b, c, d ):\n",
        "  return (a+b+c+d)\n",
        "\n",
        "\n",
        "sonuc = toplam(9, 1, d = 6 , c = 7)\n",
        "print(sonuc)"
      ],
      "metadata": {
        "colab": {
          "base_uri": "https://localhost:8080/"
        },
        "id": "dRJZm_6S00em",
        "outputId": "65ca8101-2bd4-4295-e117-00f0283a6d34"
      },
      "execution_count": 90,
      "outputs": [
        {
          "output_type": "stream",
          "name": "stdout",
          "text": [
            "23\n"
          ]
        }
      ]
    },
    {
      "cell_type": "code",
      "source": [
        "# Aşağıda geçen user-defined function'da positional arguments veya keyword arguments'leri bulun, bu kodun hata verip vermeyeceğini inceleyin\n",
        "\n",
        "def toplam(a, b, c, d ):\n",
        "  return (a+b+c+d)\n",
        "\n",
        "\n",
        "# sonuc = toplam(b = 1, d = 6 , a = 7, b = 9)  # hatalı iki kez b parametresine keyword ataması yapılmış, tek yapılmalıydı\n",
        "\n",
        "sonuc = toplam(b = 1, d = 6 , a = 7, c = 9)\n",
        "print(sonuc)"
      ],
      "metadata": {
        "id": "JYf7Q4ANaSXZ",
        "colab": {
          "base_uri": "https://localhost:8080/"
        },
        "outputId": "8408403e-a7c4-4805-b2b2-a74b787d4547"
      },
      "execution_count": 66,
      "outputs": [
        {
          "output_type": "stream",
          "name": "stdout",
          "text": [
            "23\n"
          ]
        }
      ]
    },
    {
      "cell_type": "code",
      "source": [
        "# Aşağıda geçen user-defined function'da positional arguments veya keyword arguments'lere ait hatayı bulun\n",
        "\n",
        "def toplam(a, b, c, d ):\n",
        "  return (a+b+c+d)\n",
        "\n",
        "\n",
        "sonuc = toplam(b = 1, 9, d = 6 , a = 7)  # hata önce positional sonra keyword argüman at\n",
        "\n",
        "print(sonuc)"
      ],
      "metadata": {
        "id": "Z1BzmUwOZS80",
        "colab": {
          "base_uri": "https://localhost:8080/",
          "height": 130
        },
        "outputId": "457cf394-f36f-49d4-a9de-1293aefae084"
      },
      "execution_count": 93,
      "outputs": [
        {
          "output_type": "error",
          "ename": "SyntaxError",
          "evalue": "ignored",
          "traceback": [
            "\u001b[0;36m  File \u001b[0;32m\"<ipython-input-93-5784b13fff6f>\"\u001b[0;36m, line \u001b[0;32m7\u001b[0m\n\u001b[0;31m    sonuc = toplam(b = 1, 9, d = 6 , a = 7)\u001b[0m\n\u001b[0m                                          ^\u001b[0m\n\u001b[0;31mSyntaxError\u001b[0m\u001b[0;31m:\u001b[0m positional argument follows keyword argument\n"
          ]
        }
      ]
    },
    {
      "cell_type": "code",
      "source": [
        "# Aşağıda geçen user-defined function'da positional arguments veya keyword arguments'leri inceleyin, her print'in hatasız çıktı verip vermeyeceğini inceleyin\n",
        "\n",
        "def toplam(a, b=10, c, d=2):\n",
        "  return (a+b+c+d)\n",
        "\n",
        "\n",
        "print(toplam(7, 1, 9, 6))\n",
        "print(toplam(b = 1, c= 9, d = 6 , a = 7))\n",
        "print(toplam(9, b = 1, d = 6 , c = 7))\n",
        "print(toplam(c = 9, a = 7)) \n",
        "# print(toplam(7, 9)) \n",
        "# print(toplam(c = 9, a = 7, b = 2)) \n",
        "\n",
        "\n",
        "\n",
        "\n"
      ],
      "metadata": {
        "id": "i0VjknfvetDi",
        "colab": {
          "base_uri": "https://localhost:8080/",
          "height": 130
        },
        "outputId": "1e90e183-d1ad-4501-d2c2-8ff99b047f3a"
      },
      "execution_count": 76,
      "outputs": [
        {
          "output_type": "error",
          "ename": "SyntaxError",
          "evalue": "ignored",
          "traceback": [
            "\u001b[0;36m  File \u001b[0;32m\"<ipython-input-76-278e04018579>\"\u001b[0;36m, line \u001b[0;32m3\u001b[0m\n\u001b[0;31m    def toplam(a, b=10, c, d=2):\u001b[0m\n\u001b[0m                           ^\u001b[0m\n\u001b[0;31mSyntaxError\u001b[0m\u001b[0;31m:\u001b[0m non-default argument follows default argument\n"
          ]
        }
      ]
    },
    {
      "cell_type": "code",
      "source": [
        "def toplam(a, b, c=10, d=2):\n",
        "  return (a+b+c+d)\n",
        "\n",
        "\n",
        "# print(toplam(7, 1, 9, 6))\n",
        "# print(toplam(b = 9, a = 7)) \n",
        "# print(toplam(7, 9)) \n",
        "print(toplam(c = 9, a = 7, b = 2)) "
      ],
      "metadata": {
        "colab": {
          "base_uri": "https://localhost:8080/"
        },
        "id": "eTmlBAyQ3rGN",
        "outputId": "bdc66469-96b7-4b60-aaa9-a2a1056a8cd7"
      },
      "execution_count": 79,
      "outputs": [
        {
          "output_type": "stream",
          "name": "stdout",
          "text": [
            "20\n"
          ]
        }
      ]
    },
    {
      "cell_type": "code",
      "source": [
        "# toplam user-defined function'ını aşağıdaki çağrılmalar sonucu hata almayacak şekilde düzeltin\n",
        "\n",
        "def toplam(a, b):\n",
        "  return (a+b)\n",
        "\n",
        "my_list = [2, 3, 7, 4, 1, 10]\n",
        "print(toplam(my_list))\n",
        "\n",
        "my_tuple = 3, 4, 5, 0\n",
        "print(toplam(my_tuple))\n"
      ],
      "metadata": {
        "id": "WWfr-3KqdiBl"
      },
      "execution_count": null,
      "outputs": []
    },
    {
      "cell_type": "code",
      "source": [
        "# toplam user-defined function'ını aşağıdaki çağrılma sonucu hata almayacak şekilde düzeltin\n",
        "\n",
        "def toplam(a,b):\n",
        "    return (a+b)\n",
        "  \n",
        "toplam(4,5,6,8,9,1,6,7,8,9)\n"
      ],
      "metadata": {
        "id": "jgSo4rota2MI"
      },
      "execution_count": null,
      "outputs": []
    },
    {
      "cell_type": "code",
      "source": [
        "# 2 parametre alan bir carpma adlı function yazın, daha sonra bu function'ı kullanıcının klavyeden girdiği değerleri arguman olacak şekilde çalıştırın\n",
        "\n"
      ],
      "metadata": {
        "id": "kri7miJ-iLsZ"
      },
      "execution_count": null,
      "outputs": []
    },
    {
      "cell_type": "code",
      "source": [
        "# Klavyeden 5 kişinin ad, soyad ve yaşını girip dictionarye aktarın. Bu işlemde klavye girişi içi user-defined function fonksiyon yazın\n",
        "\n"
      ],
      "metadata": {
        "id": "bHVmZsKJW4EB"
      },
      "execution_count": null,
      "outputs": []
    }
  ]
}