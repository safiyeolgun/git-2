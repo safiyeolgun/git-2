{
  "nbformat": 4,
  "nbformat_minor": 0,
  "metadata": {
    "colab": {
      "provenance": [],
      "authorship_tag": "ABX9TyPURNeQy/j40lMqko+lSVIG",
      "include_colab_link": true
    },
    "kernelspec": {
      "name": "python3",
      "display_name": "Python 3"
    },
    "language_info": {
      "name": "python"
    }
  },
  "cells": [
    {
      "cell_type": "markdown",
      "metadata": {
        "id": "view-in-github",
        "colab_type": "text"
      },
      "source": [
        "<a href=\"https://colab.research.google.com/github/safiyeolgun/students-lab/blob/main/03302023.ipynb\" target=\"_parent\"><img src=\"https://colab.research.google.com/assets/colab-badge.svg\" alt=\"Open In Colab\"/></a>"
      ]
    },
    {
      "cell_type": "markdown",
      "source": [
        "# **Python Dictionary Collection**"
      ],
      "metadata": {
        "id": "Rabtj-lUTV12"
      }
    },
    {
      "cell_type": "markdown",
      "source": [
        "1) Günün sorusu: Girilen Sayının Pozitif, Negatif, ya da 0 Olduğunu Bulan **Python** **kodu** yazınız."
      ],
      "metadata": {
        "id": "HLE9gOuiTK8X"
      }
    },
    {
      "cell_type": "code",
      "source": [],
      "metadata": {
        "id": "AcToxaOGUaCH"
      },
      "execution_count": null,
      "outputs": []
    },
    {
      "cell_type": "code",
      "source": [
        "# 2) 9. satırda bu kolleksiyonun veri türünü yazdıran kodu print içerisine ekleyin \n",
        "# dictionary collection, key-value pair\n",
        "\n",
        "first_dict = {'key1': 'value',\n",
        "              'key2': 'value'}\n",
        "\n",
        "\n",
        "#how to check type of a dictionary\n",
        "print(type(first_dict))"
      ],
      "metadata": {
        "id": "Zfvtp3E1il7-",
        "colab": {
          "base_uri": "https://localhost:8080/"
        },
        "outputId": "bcf6f7da-ca02-45c4-a13f-2ccf1b448a80"
      },
      "execution_count": null,
      "outputs": [
        {
          "output_type": "stream",
          "name": "stdout",
          "text": [
            "<class 'dict'>\n"
          ]
        }
      ]
    },
    {
      "cell_type": "code",
      "source": [
        "# 3) 3. ve 4. satırların sonucunda ne elde edilir?\n",
        "\n",
        "empty_dict1 = {}  # with curly braves\n",
        "empty_dict2 = dict()  # with dict() function\n",
        "\n",
        "print(type(empty_dict1))\n",
        "print(type(empty_dict2))"
      ],
      "metadata": {
        "id": "YGeyB2qYitSm",
        "colab": {
          "base_uri": "https://localhost:8080/"
        },
        "outputId": "c97a4bbb-dfa5-447a-ab5d-82fea5d58dd9"
      },
      "execution_count": null,
      "outputs": [
        {
          "output_type": "stream",
          "name": "stdout",
          "text": [
            "<class 'dict'>\n",
            "<class 'dict'>\n"
          ]
        }
      ]
    },
    {
      "cell_type": "code",
      "source": [
        "# 4) 4.satırdaki print içerisine baba ve annenin adını yazdırın.\n",
        "family = {'baba': 'Ahmet', 'anne': 'Ayşe', 'çocuk1': 'Ömer'}\n",
        "\n",
        "print(family['baba'], family['anne'])  # ayrı satırlarda da çıktı alınabilir"
      ],
      "metadata": {
        "id": "lAnbzFRKlgPW",
        "colab": {
          "base_uri": "https://localhost:8080/"
        },
        "outputId": "7cfdd0ba-f2b9-4c3e-9cb8-134bf30bbe5b"
      },
      "execution_count": null,
      "outputs": [
        {
          "output_type": "stream",
          "name": "stdout",
          "text": [
            "Ahmet Ayşe\n"
          ]
        }
      ]
    },
    {
      "cell_type": "code",
      "source": [
        "# 5) 4.satırdaki hatayı düzeltin. İşlem yapmadığında ekranda 'olmayan key girdiniz' yazmasını sağlayın.\n",
        "family = {'baba': 'Ahmet', 'anne': 'Ayşe', 'çocuk1': 'Ömer'}\n",
        "\n",
        "print(family.get('çocuk2', 'olmayan key girdiniz'))  # Hatası Type Error, kodun hatalı hali: print(family.get['çocuk2']) \n",
        "# print(family['çocuk2'])   # collection'da olmayan key olunca hata verir, ama get olmayan key olunca varsa mesajı yazar\n",
        "\n",
        "\n",
        "print(family.get('çocuk1', 'olmayan key girdiniz'))  # .get(key,[key bulunamayına görüncek mesaj]) metthodu [] almaz. Dict'ten verilen anahtarlar ile değer almayı sağlar\n",
        "print(family['çocuk1'])"
      ],
      "metadata": {
        "id": "MvJRBJWnkpKH",
        "colab": {
          "base_uri": "https://localhost:8080/"
        },
        "outputId": "77cd3ead-335e-4779-d0e0-9294f7afddb5"
      },
      "execution_count": null,
      "outputs": [
        {
          "output_type": "stream",
          "name": "stdout",
          "text": [
            "olmayan key girdiniz\n",
            "Ömer\n",
            "Ömer\n"
          ]
        }
      ]
    },
    {
      "cell_type": "code",
      "source": [
        "# 6) Aşağıdaki collection'lar birbirine eşit mi?\n",
        "\n",
        "dict1 = {'baba': 'Ahmet', 'anne': 'Ayşe', 'çocuk1': 'Ömer'}  \n",
        "dict2 = dict(baba='Ahmet', anne ='Ayşe', çocuk1 = 'Ömer')\n",
        "dict3 = dict([('baba', 'Ahmet'), ('anne', 'Ayşe'), ('çocuk1', 'Ömer')])\n",
        "\n",
        "dict3_1 = dict([('baba', ['Ahmet',50, 60]), ('anne', 'Ayşe'), ('çocuk1', 'Ömer')])\n",
        "dict3_2 = dict([('baba', {'Ahmet': 50}), ('anne', 'Ayşe'), ('çocuk1', 'Ömer')])\n",
        "dict3_3 = dict([('baba', {'Ahmet': (50, 'Ali')}), ('anne', 'Ayşe'), ('çocuk1', 'Ömer')])\n",
        "dict3_4 = dict([('baba', {'Ahmet': (50, 60)}), ('anne', 'Ayşe'), ('çocuk1', 'Ömer')])\n",
        "\n",
        "dict4 = dict({'anne': 'Ayşe', 'çocuk1': 'Ömer', 'baba': 'Ahmet'})\n",
        "dict5 = dict({'çocuk1': 'Ömer', 'baba': 'Ahmet'}, anne ='Ayşe' )\n",
        "dict6 = dict(zip(['baba', 'anne','çocuk1'], ['Ahmet', 'Ayşe', 'Ömer']))  \n",
        "\n",
        "# zip([key_list], [value_list]) fonksiyonu 2 ayrı eleman sayısı eşit list collectionun ilk key, ikincisini value olacak şekilde birleştirir\n",
        "\n",
        "dict7 = dict.fromkeys(['baba', 'anne','çocuk1'], ['Ahmet', 'Ayşe', 'Ömer'])\n",
        "dict7_1 = dict.fromkeys(['Ahmet', 'Ayşe', 'Ömer'], 'Yılmaz')\n",
        "dict7_2 = dict.fromkeys(['baba'], ['Ahmet', 'Ayşe', 'Ömer'])\n",
        "\n",
        "print(type(dict1), dict1)\n",
        "print(type(dict2), dict2)\n",
        "print(type(dict3), dict3)\n",
        "print()\n",
        "print(type(dict3_1), dict3_1)\n",
        "print(type(dict3_2), dict3_2)\n",
        "print(type(dict3_3), dict3_3)\n",
        "print(type(dict3_4), dict3_4)\n",
        "print()\n",
        "print(type(dict4), dict4)\n",
        "print(type(dict5), dict5)\n",
        "print(type(dict6), dict6)\n",
        "print()\n",
        "print(type(dict7), dict7)\n",
        "print(type(dict7_1), dict7_1, len(dict7_1))\n",
        "print(type(dict7_2), dict7_2, len(dict7_2))\n",
        "\n",
        "\n",
        "print(dict4 == dict1)\n",
        "print(dict5 == dict1)\n",
        "print(dict6 == dict1)"
      ],
      "metadata": {
        "id": "tjUMT2FcksxP",
        "colab": {
          "base_uri": "https://localhost:8080/"
        },
        "outputId": "0877247c-2470-4af3-fb55-005acc0cc8f7"
      },
      "execution_count": null,
      "outputs": [
        {
          "output_type": "stream",
          "name": "stdout",
          "text": [
            "<class 'dict'> {'baba': 'Ahmet', 'anne': 'Ayşe', 'çocuk1': 'Ömer'}\n",
            "<class 'dict'> {'baba': 'Ahmet', 'anne': 'Ayşe', 'çocuk1': 'Ömer'}\n",
            "<class 'dict'> {'baba': 'Ahmet', 'anne': 'Ayşe', 'çocuk1': 'Ömer'}\n",
            "\n",
            "<class 'dict'> {'baba': ['Ahmet', 50, 60], 'anne': 'Ayşe', 'çocuk1': 'Ömer'}\n",
            "<class 'dict'> {'baba': {'Ahmet': 50}, 'anne': 'Ayşe', 'çocuk1': 'Ömer'}\n",
            "<class 'dict'> {'baba': {'Ahmet': (50, 'Ali')}, 'anne': 'Ayşe', 'çocuk1': 'Ömer'}\n",
            "<class 'dict'> {'baba': {'Ahmet': (50, 60)}, 'anne': 'Ayşe', 'çocuk1': 'Ömer'}\n",
            "\n",
            "<class 'dict'> {'anne': 'Ayşe', 'çocuk1': 'Ömer', 'baba': 'Ahmet'}\n",
            "<class 'dict'> {'çocuk1': 'Ömer', 'baba': 'Ahmet', 'anne': 'Ayşe'}\n",
            "<class 'dict'> {'baba': 'Ahmet', 'anne': 'Ayşe', 'çocuk1': 'Ömer'}\n",
            "\n",
            "<class 'dict'> {'baba': ['Ahmet', 'Ayşe', 'Ömer'], 'anne': ['Ahmet', 'Ayşe', 'Ömer'], 'çocuk1': ['Ahmet', 'Ayşe', 'Ömer']}\n",
            "<class 'dict'> {'Ahmet': 'Yılmaz', 'Ayşe': 'Yılmaz', 'Ömer': 'Yılmaz'} 3\n",
            "<class 'dict'> {'baba': ['Ahmet', 'Ayşe', 'Ömer']} 1\n",
            "True\n",
            "True\n",
            "True\n"
          ]
        }
      ]
    },
    {
      "cell_type": "code",
      "source": [
        "# 7) 5. satırdaki bu çıktının sonucunda hangi hata ile karşılaşılır? \n",
        "\n",
        "dif_dict = dict(isim='Joseph', soyad='Apple', cinsiyet='erkek', numara=2340, boy=1.86, ingilizce_bilme=True)\n",
        "\n",
        "print(dif_dict)\n",
        "\n",
        "# hata yok, dictionary value'ler farklı veri türleri alabilir(str, int, float, bool)"
      ],
      "metadata": {
        "id": "xBQLckAFwOlX",
        "colab": {
          "base_uri": "https://localhost:8080/"
        },
        "outputId": "4c928ead-1d90-4fb5-ee58-e6529afdbfbe"
      },
      "execution_count": null,
      "outputs": [
        {
          "output_type": "stream",
          "name": "stdout",
          "text": [
            "{'isim': 'Joseph', 'soyad': 'Apple', 'cinsiyet': 'erkek', 'numara': 2340, 'boy': 1.86, 'ingilizce_bilme': True}\n"
          ]
        }
      ]
    },
    {
      "cell_type": "code",
      "source": [
        "# 7.1) Aşağıdaki collection key ve value değerlerini inceleyiniz.\n",
        "\n",
        "dif_dict1 = dict( soyad=['Apple', 'Leek', 'spinack','Orange'], \n",
        "                cinsiyet=('erkek','kadın'), \n",
        "                apple=['elma','apfla','yabloka'],\n",
        "                numara={2340: True})\n",
        "\n",
        "# dictionary'nin her elemanının value'sinin kendi içindeki eleman sayısı farklı olabilir\n",
        "# dictionary'nin her elemanı farklı veri türlerinde olabilir. (list, tuple, dict)"
      ],
      "metadata": {
        "id": "OVV79rhYGIwT"
      },
      "execution_count": null,
      "outputs": []
    },
    {
      "cell_type": "code",
      "source": [
        "# 8) Bu collection'da \n",
        "#     A) Antalya'nın plaka numarasını 07 olarak değiştirin, \n",
        "#     B) Neden bu collection 2 adet aynı ismi taşıyan key'e sahip?\n",
        "#     C) 44 numaralı plakanın şehrini Malatya yapın\n",
        "city = {'Ankara': '06', 'İstanbul':34, 'İzmir': 35, 'Erzurum': 25, 'Trabzon': 61, 'Antalya': '06', 'Hatay': 31, 'izmir': 44}\n",
        "\n",
        "print(len(city))  # bir collection eleman sayısı 8'dir. Hem 'İzmir' hem de 'izmir' ayrı ayrı elaman sayılır.\n",
        "\n",
        "city['Antalya'] = '07'    # Collection içindeki 0 ile yazılması gereken value'ler str veri türünde \n",
        "\n",
        "                       \n",
        "\n",
        "# 'İzmir': 35 elemanındaki key ile 'izmir': 44 elemanının key'i aynı değildir. Büyük/küçük har duyarlılığı var\n",
        "city_izmir = {'Ankara': '06', 'İstanbul':34, 'İzmir': 35, 'Erzurum': 25, 'Trabzon': 61, 'Antalya': '06', 'Hatay': 31, 'İzmir': 99}\n",
        "# 'İzmir': 99 görünür, son verilen değer esas alınır\n",
        "print(len(city_izmir))  # Bu collection elemans sayısı 7 'dir.\n",
        "\n",
        "\n",
        "city['Malatya'] = 44\n",
        "city.pop('izmir')         #  Üsteki satırla birlikte tek satırda şöyle yazılır: city['Malatya'] = city.pop('izmir') \n",
        "print(city)"
      ],
      "metadata": {
        "id": "s5vevWAFwf1f",
        "colab": {
          "base_uri": "https://localhost:8080/"
        },
        "outputId": "572f98ef-3428-4ecd-98e9-044c0e78c95f"
      },
      "execution_count": null,
      "outputs": [
        {
          "output_type": "stream",
          "name": "stdout",
          "text": [
            "8\n",
            "7\n",
            "{'Ankara': '06', 'İstanbul': 34, 'İzmir': 35, 'Erzurum': 25, 'Trabzon': 61, 'Antalya': '07', 'Hatay': 31, 'Malatya': 44}\n"
          ]
        }
      ]
    },
    {
      "cell_type": "code",
      "source": [
        "# 8.1) Aşağıdaki collection içine değer tüm value'lerin yeni atamalarını int türünde yapılarak yukarıdaki probleme bakın\n",
        "\n",
        "city = {'Ankara': '06', 'İstanbul':34, 'İzmir': 35, 'Erzurum': 25, 'Trabzon': 61, 'Antalya': '06', 'Hatay': 31, 'izmir': 44}\n",
        "\n",
        "# city['Antalya'] = 07      # SyntaxError hatasını verir sayı önüne 0 yazılmaz \n",
        "\n",
        "# Sayı önüne 0 yazılıp tırnak içine alınmazsa SyntaxError hatası ile karşılaşılır. Sayıların önüne/öncesine/soluna 0 gelmez\n",
        "# city_int_0 = {'Ankara': 06, 'İstanbul':34, 'İzmir': 35, 'Erzurum': 25, 'Trabzon': 61, 'Antalya': 06, 'Hatay': 31, 'izmir': 44}\n",
        "# print(city_int_0)\n",
        "\n",
        "\n",
        "# Sayı önüne 0 yazılmayıp tek haneli int olarak hatasız kullanılabilir.\n",
        "city_int = {'Ankara': 6, 'İstanbul':34, 'İzmir': 35, 'Erzurum': 25, 'Trabzon': 61, 'Antalya': 6, 'Hatay': 31, 'izmir': 44}\n",
        "print(city_int)"
      ],
      "metadata": {
        "colab": {
          "base_uri": "https://localhost:8080/"
        },
        "id": "Y76Fs0IvOVbe",
        "outputId": "d76215c4-ee65-4606-ac9f-09eb59e1c099"
      },
      "execution_count": null,
      "outputs": [
        {
          "output_type": "stream",
          "name": "stdout",
          "text": [
            "{'Ankara': 6, 'İstanbul': 34, 'İzmir': 35, 'Erzurum': 25, 'Trabzon': 61, 'Antalya': 6, 'Hatay': 31, 'izmir': 44}\n"
          ]
        }
      ]
    },
    {
      "cell_type": "code",
      "source": [
        "# 9) city2 collection'ını = operatörünü kullanarak yukarıdaki city collection'ından koplayarak oluşturun.\n",
        "city = {'Ankara': '06', 'İstanbul':34, 'İzmir': 35, 'Erzurum': 25, 'Trabzon': 61, 'Antalya': '06', 'Hatay': 31, 'izmir': 44}\n",
        "\n",
        "city2 = city  # city ve city2 tamamen aynı bellek bölgesi işaret ediyor, burada city2 ile yeni değişken oluşmuyor\n",
        "print(city.values == city2.values)  # True çıkar\n",
        "print(city.items == city2.items)  # True çıkar\n",
        "print(city.keys == city2.keys)  # True çıkar\n",
        "print(city == city2)  # True çıkar\n",
        "\n",
        "city['Eskişehir'] = 26\n",
        "print('city :', city)\n",
        "print('city2:',city2)   # city'e eklenen değerler otomatik city2'e yüklenir\n",
        "\n",
        "print()\n",
        "\n",
        "city2['Kastamonu'] = 22\n",
        "print('city2:',city2)  \n",
        "print('city :',city)   # city2'e eklenen değerler otomatik city'e yüklenir"
      ],
      "metadata": {
        "id": "j67zPZgI7lYj",
        "colab": {
          "base_uri": "https://localhost:8080/"
        },
        "outputId": "23b84251-6e00-451a-8168-8fd88776fe03"
      },
      "execution_count": null,
      "outputs": [
        {
          "output_type": "stream",
          "name": "stdout",
          "text": [
            "True\n",
            "True\n",
            "True\n",
            "True\n",
            "city : {'Ankara': '06', 'İstanbul': 34, 'İzmir': 35, 'Erzurum': 25, 'Trabzon': 61, 'Antalya': '06', 'Hatay': 31, 'izmir': 44, 'Eskişehir': 26}\n",
            "city2: {'Ankara': '06', 'İstanbul': 34, 'İzmir': 35, 'Erzurum': 25, 'Trabzon': 61, 'Antalya': '06', 'Hatay': 31, 'izmir': 44, 'Eskişehir': 26}\n",
            "\n",
            "city2: {'Ankara': '06', 'İstanbul': 34, 'İzmir': 35, 'Erzurum': 25, 'Trabzon': 61, 'Antalya': '06', 'Hatay': 31, 'izmir': 44, 'Eskişehir': 26, 'Kastamonu': 22}\n",
            "city : {'Ankara': '06', 'İstanbul': 34, 'İzmir': 35, 'Erzurum': 25, 'Trabzon': 61, 'Antalya': '06', 'Hatay': 31, 'izmir': 44, 'Eskişehir': 26, 'Kastamonu': 22}\n"
          ]
        }
      ]
    },
    {
      "cell_type": "code",
      "source": [
        "# 10) city3 collection'ını copy() metdodu kullanarak yukarıdaki city collection'ından koplayarak oluşturun.\n",
        "city = {'Ankara': '06', 'İstanbul':34, 'İzmir': 35, 'Erzurum': 25, 'Trabzon': 61, 'Antalya': '06', 'Hatay': 31, 'izmir': 44}\n",
        "\n",
        "city3 = city.copy()   # city ve city2 farklı değişkenler\n",
        "print(city.values == city3.values)  # False çıkar\n",
        "print(city.items == city3.items)   # False çıkar\n",
        "print(city.keys == city3.keys)  # False çıkar\n",
        "print(city == city3) \n",
        "\n",
        "city['Eskişehir'] = 26\n",
        "print('city :',city)\n",
        "print('city3 :',city3)   # city'e eklenen değerler city3'e eklenmez\n",
        "\n",
        "print()\n",
        "city3['Edirne'] = 22\n",
        "print('city3:',city3)\n",
        "print('city :',city)      # city3'e eklenen değerler city'e eklenmez\n"
      ],
      "metadata": {
        "id": "7ReUW1t9-Re-",
        "colab": {
          "base_uri": "https://localhost:8080/"
        },
        "outputId": "d45fdf58-6779-4e1e-9a3d-e13dbb905d87"
      },
      "execution_count": null,
      "outputs": [
        {
          "output_type": "stream",
          "name": "stdout",
          "text": [
            "False\n",
            "False\n",
            "False\n",
            "True\n",
            "city : {'Ankara': '06', 'İstanbul': 34, 'İzmir': 35, 'Erzurum': 25, 'Trabzon': 61, 'Antalya': '06', 'Hatay': 31, 'izmir': 44, 'Eskişehir': 26}\n",
            "city3 : {'Ankara': '06', 'İstanbul': 34, 'İzmir': 35, 'Erzurum': 25, 'Trabzon': 61, 'Antalya': '06', 'Hatay': 31, 'izmir': 44}\n",
            "\n",
            "city3: {'Ankara': '06', 'İstanbul': 34, 'İzmir': 35, 'Erzurum': 25, 'Trabzon': 61, 'Antalya': '06', 'Hatay': 31, 'izmir': 44, 'Edirne': 22}\n",
            "city : {'Ankara': '06', 'İstanbul': 34, 'İzmir': 35, 'Erzurum': 25, 'Trabzon': 61, 'Antalya': '06', 'Hatay': 31, 'izmir': 44, 'Eskişehir': 26}\n"
          ]
        }
      ]
    },
    {
      "cell_type": "code",
      "source": [
        "# 11) Aşağıdaki collection'ın fruit key'i içerisindeki meyvelerin sadece adlarını ekrana yazdırın.\n",
        "\n",
        "bazar_dict = {'fruit':\n",
        "                {'banana': 20,\n",
        "                'apple': 10,\n",
        "                'orange': 15\n",
        "              },\n",
        "              'vegatable':\n",
        "                  {'onion': 11.5,\n",
        "                  'carrot': 34,  # vegetable value'si list, key (carrot): value(34), value int\n",
        "                  'leek': 19,\n",
        "                  'tomato': 25\n",
        "                  }\n",
        "}\n",
        "\n",
        "#bazar_dict[0][1]  # KeyError,dictionary collectionlara index ile ulaşılmaz, key ile ulaşılır\n",
        "print(bazar_dict['fruit'])   # tüm fruit valueleri olab meyvelerinin  key-valuelerine ulaşır\n",
        "print(bazar_dict['fruit'].keys())  # dict_keys(['banana', 'apple', 'orange'])"
      ],
      "metadata": {
        "id": "tUY5ZRszDGwt",
        "colab": {
          "base_uri": "https://localhost:8080/"
        },
        "outputId": "230e871d-5a32-4d6f-90e5-8d089d5a86c3"
      },
      "execution_count": null,
      "outputs": [
        {
          "output_type": "stream",
          "name": "stdout",
          "text": [
            "{'banana': 20, 'apple': 10, 'orange': 15}\n",
            "dict_keys(['banana', 'apple', 'orange'])\n"
          ]
        }
      ]
    },
    {
      "cell_type": "code",
      "source": [
        "# 11.1) Aşağıdaki collection'ın vegatable key'i içerisindeki carrot key value'sini carrot: 34 şeklinde formatlı olarak ekrana yazdırın.\n",
        "bazar_dict = {'fruit':\n",
        "                {'banana': 20,\n",
        "                'apple': 10,\n",
        "                'orange': 15\n",
        "              },\n",
        "              'vegatable':\n",
        "                  {'onion': 11.5,\n",
        "                  'carrot': 34,   # vegetable value'si list, key (carrot): value(34), value int\n",
        "                  'leek': 19,\n",
        "                  'tomato': 25\n",
        "                  }\n",
        "}\n",
        "\n",
        "print(bazar_dict['vegatable'])              # vegatable key'inin altındaki tüm value'yi  olduğu veri türünde verir\n",
        "print(bazar_dict['vegatable']['carrot'])   # sadece carrot valuesi 13 ü verir\n",
        "# print(bazar_dict['vegatable']['carrot'].keys())    # AttributeError verir, carrot valuesi int keys methodunu kullanamaz\n",
        "\n",
        "print(list(bazar_dict['vegatable'].values()))  # list'e dönüştürerek yazar\n",
        "\n",
        "print(bazar_dict['vegatable'].items())    # vegatable altındaki tüm value'ler\n",
        "bazar_dict_carrot = list(bazar_dict['vegatable'].items())  # vegatable altındaki tüm value'ler key-value çiftlerini list'e çevirme\n",
        "\n",
        "print(bazar_dict_carrot)      # vegatable altındakilerin hepsinin key-value tuple olarak listelenmesi, [('onion', 11.5), ('carrot', 34), ('leek', 19), ('tomato', 25)]\n",
        "print(bazar_dict_carrot[1])   # ('carrot', 34) tuplesine ulaşma\n",
        "print(f'{bazar_dict_carrot[1][0]} : {bazar_dict_carrot[1][1]}')   # carrot: 34 \n",
        "\n",
        "\n",
        "# dictionary collectiondaki eleman sayıları\n",
        "print()\n",
        "print(len(bazar_dict))   # 2, dict collective boyutuna bakılır\n",
        "print(len(bazar_dict['fruit']))     # 3,  dict collective boyutuna bakılır\n",
        "print(len(bazar_dict['vegatable']))   # 4,  dict collective boyutuna bakılır\n",
        "# print(len(bazar_dict['vegatable']['carrot']))  # TypeError hatası boyutuna bakılamaz, value değeri int, int değerinin boyutunabakılmaz\n",
        "print(type(bazar_dict['vegatable']['carrot']))    # <class 'int'>\n"
      ],
      "metadata": {
        "colab": {
          "base_uri": "https://localhost:8080/"
        },
        "id": "RlYTRYKWVG_-",
        "outputId": "62141e8b-97db-4db8-a659-6b38fc076247"
      },
      "execution_count": null,
      "outputs": [
        {
          "output_type": "stream",
          "name": "stdout",
          "text": [
            "{'onion': 11.5, 'carrot': 34, 'leek': 19, 'tomato': 25}\n",
            "34\n",
            "[11.5, 34, 19, 25]\n",
            "dict_items([('onion', 11.5), ('carrot', 34), ('leek', 19), ('tomato', 25)])\n",
            "[('onion', 11.5), ('carrot', 34), ('leek', 19), ('tomato', 25)]\n",
            "('carrot', 34)\n",
            "carrot : 34\n",
            "\n",
            "2\n",
            "3\n",
            "4\n",
            "<class 'int'>\n"
          ]
        }
      ]
    },
    {
      "cell_type": "code",
      "source": [
        "# 11.2) Aşağıdaki collection'ın vegatable key'i içerisindeki carrot key value'sini boyutuna/eleman sayısına bakınız.\n",
        "\n",
        "bazar_dict = {'fruit':\n",
        "                {'banana': 20,\n",
        "                'apple': 10,\n",
        "                'orange': 15\n",
        "              },\n",
        "              'vegatable':\n",
        "                  {'onion': 11.5,\n",
        "                  'carrot': [34, 23],   # vegetable value'si list, key (carrot): value([34,23]), value list\n",
        "                  'leek': 19,\n",
        "                  'tomato': 25\n",
        "                  }\n",
        "}\n",
        "\n",
        "print(len(bazar_dict['vegatable']['carrot']))  # 2, carrot value'leri list, boyutuna/eleman sayısına bakılabilir\n"
      ],
      "metadata": {
        "colab": {
          "base_uri": "https://localhost:8080/"
        },
        "id": "Wzgl2Q4HaJ94",
        "outputId": "f754430d-80dd-4131-dc3f-da4ad3c4defb"
      },
      "execution_count": null,
      "outputs": [
        {
          "output_type": "stream",
          "name": "stdout",
          "text": [
            "2\n"
          ]
        }
      ]
    },
    {
      "cell_type": "code",
      "source": [
        "# 11.3) Aşağıdaki collection'ın vegatable key'i içerisindeki carrot key value'sini boyutuna/eleman sayısına bakınız.\n",
        "bazar_dict = {'fruit':\n",
        "                {'banana': 20,\n",
        "                'apple': 10,\n",
        "                'orange': 15\n",
        "              },\n",
        "              'vegatable':\n",
        "                  {'onion': 11.5,\n",
        "                  'carrot': '34',    # vegetable value'si dict,  key (carrot): value('34'), value str\n",
        "                  'leek': 19,\n",
        "                  'tomato': 25\n",
        "                  }\n",
        "}\n",
        "\n",
        "print(len(bazar_dict['vegatable']['carrot']))  # 2, carrot value'si 'str 34', boyutuna/eleman sayısına bakılabilir\n",
        "print(bazar_dict['vegatable']['carrot'][0])     # '3' -> '34' stringinin ilk elemanı\n",
        "print(bazar_dict['vegatable']['carrot'][1])      # '4' -> '34' stringinin ikinci elemanı\n",
        "      "
      ],
      "metadata": {
        "colab": {
          "base_uri": "https://localhost:8080/"
        },
        "id": "BJSEjStwa7w2",
        "outputId": "36c6a95a-48d6-4d41-e5b0-38ad5d50db12"
      },
      "execution_count": null,
      "outputs": [
        {
          "output_type": "stream",
          "name": "stdout",
          "text": [
            "2\n",
            "3\n",
            "4\n"
          ]
        }
      ]
    },
    {
      "cell_type": "code",
      "source": [
        "# 11.4) Aşağıdaki collection'ın vegatable key'i içerisindeki carrot key value'sini boyutuna/eleman sayısına bakınız.\n",
        "\n",
        "bazar_dict = {'fruit':\n",
        "                {'banana': 20,\n",
        "                'apple': 10,\n",
        "                'orange': 15\n",
        "              },\n",
        "              'vegatable':\n",
        "                  ['onion', 11.5,\n",
        "                  'carrot', 34,  # vegetable value'si list, key (carrot): value(34), value int\n",
        "                  'leek', 19,\n",
        "                  'tomato', 25\n",
        "                  ]\n",
        "}\n",
        "print(bazar_dict)\n",
        "\n",
        "# print(bazar_dict['vegatable']['carrot'])   # TypeError: list indices must be integers or slices, not str\n",
        "print(bazar_dict['vegatable'][2])        #'carrot'\n",
        "print(bazar_dict['vegatable'][3])         # 34\n",
        "print(type(bazar_dict['vegatable'][2]))   # <class 'str'>\n",
        "print(type(bazar_dict['vegatable'][3]))   # <class 'int'>\n",
        "print(len(bazar_dict['vegatable'][2]))    # 6\n",
        "# print(len(bazar_dict['vegatable'][3]))    # Type Error, carrot value değeri int 34\n"
      ],
      "metadata": {
        "colab": {
          "base_uri": "https://localhost:8080/"
        },
        "id": "BF7p6lDvcoPV",
        "outputId": "65f7fe7f-6411-4813-c259-f0dc72869824"
      },
      "execution_count": null,
      "outputs": [
        {
          "output_type": "stream",
          "name": "stdout",
          "text": [
            "{'fruit': {'banana': 20, 'apple': 10, 'orange': 15}, 'vegatable': ['onion', 11.5, 'carrot', 34, 'leek', 19, 'tomato', 25]}\n",
            "carrot\n",
            "34\n",
            "<class 'str'>\n",
            "<class 'int'>\n",
            "6\n"
          ]
        }
      ]
    },
    {
      "cell_type": "code",
      "source": [
        " # 11.5 Aşağıdaki collection'ın vegatable key'i içerisindeki carrot key value'sini boyutuna/eleman sayısına bakınız.\n",
        "bazar_dict = {'fruit':\n",
        "                {'banana': 20,\n",
        "                'apple': 10,\n",
        "                'orange': 15\n",
        "              },\n",
        "              'vegatable':\n",
        "                  ['onion', 11.5,\n",
        "                  'carrot', '34',   # vegetable value'si list, key (carrot): value('34'), value str\n",
        "                  'leek', 19,\n",
        "                  'tomato', 25\n",
        "                  ]\n",
        "             }\n",
        "\n",
        "print(bazar_dict['vegatable'][3])    # '34'\n",
        "print(type(bazar_dict['vegatable'][3]))  #<class 'str'>\n",
        "print(len(bazar_dict['vegatable'][3]))    #2, vegatable value olan içindeki listin 3. indeksi '34'"
      ],
      "metadata": {
        "colab": {
          "base_uri": "https://localhost:8080/"
        },
        "id": "nQtRZ0Yjdknb",
        "outputId": "a0135504-1fa6-4267-d2af-0c7e12edbbad"
      },
      "execution_count": null,
      "outputs": [
        {
          "output_type": "stream",
          "name": "stdout",
          "text": [
            "34\n",
            "<class 'str'>\n",
            "2\n"
          ]
        }
      ]
    },
    {
      "cell_type": "code",
      "source": [
        "# 11.6) Hangi veri türündeki değerlerin boyuna bakılabilir\n",
        "\n",
        "print(len(23))   # TypeError: object of type 'int' has no len()\n",
        "print(len('ABC'))   # 3, str\n",
        "print(len({2: 'd'}))  # 1 elemanlı, dict\n",
        "print(len({'d': 2}))  # 1 elemanlı, dict\n",
        "print(type({'d': 2}))  # <class 'dict'>"
      ],
      "metadata": {
        "colab": {
          "base_uri": "https://localhost:8080/"
        },
        "id": "EqFVEyOsbjpS",
        "outputId": "1f593a16-e7b8-465d-eb16-07dca3e6a2a2"
      },
      "execution_count": null,
      "outputs": [
        {
          "output_type": "stream",
          "name": "stdout",
          "text": [
            "3\n",
            "1\n",
            "1\n",
            "<class 'dict'>\n"
          ]
        }
      ]
    },
    {
      "cell_type": "code",
      "source": [
        "# 12) Kilosu aşağıda verilen ürünlerden 2 kilo orange'in fiyatını ve 3 kg carrot fiyatını collection içerisinde alıp 18. satırda print içerisinde asağıdaki gibi formatlı yazdırın.\n",
        "# 2kg orange : 30TL\n",
        "# 3kg carrot : 39TL\n",
        "\n",
        "bazar_dict = {'fruit':\n",
        "           {'banana': 20,\n",
        "            'apple': 10,\n",
        "            'orange': 15\n",
        "           },\n",
        "           'vegatable':\n",
        "           {'onion': 11.5,\n",
        "            'carrot': 13,\n",
        "            'leek': 19,\n",
        "            'tomato': 25\n",
        "           }\n",
        "}\n",
        "\n",
        "print(f\"\")"
      ],
      "metadata": {
        "id": "ixfvQhKNw8Z_"
      },
      "execution_count": null,
      "outputs": []
    },
    {
      "cell_type": "code",
      "source": [
        "# 13) 10. Aşağıdaki collection içerisine\n",
        "#         A) other key'i içerisine flower: 45TL ve cheese: 89TL çiftlerini key'i indeks gibi kullanarak ekleyin.\n",
        "#         B) vegatable içerisindeki onion türlerine purple 30TL'yi update methodu ile ekleyin.\n",
        "#         C) juice: 21TL'yi keyleri kontrol edip eğer yoksa eklemesini sağlayın.\n",
        "bazar_dict = {'fruit':\n",
        "           {'banana': 20,\n",
        "            'apple': 10,\n",
        "            'orange': 15\n",
        "           },\n",
        "           'vegatable':\n",
        "           {'onion':{'white': 11.5,\n",
        "                     'yellow': 15,\n",
        "                     'small': 25},\n",
        "            'carrot': 13,\n",
        "            'leek': 19,\n",
        "            'tomato': 25\n",
        "           }\n",
        "}\n"
      ],
      "metadata": {
        "id": "-Vlp9mlGDgyP"
      },
      "execution_count": null,
      "outputs": []
    },
    {
      "cell_type": "code",
      "source": [
        "# 14) 11. Aşağıdaki collection içerisindeki vegatable içerisindeki\n",
        "#         A) fruit'leri del function'ı ile silin\n",
        "#         B) tüm onion'ları pop methodu ile silin\n",
        "#         C) leek'in value'sini silin\n",
        "#         D) tomato'yu silin\n",
        "bazar_dict = {'fruit':\n",
        "           {'banana': 20,\n",
        "            'apple': 10,\n",
        "            'orange': 15\n",
        "           },\n",
        "           'vegatable':\n",
        "           {'onion':{'white': 11.5,\n",
        "                     'yellow': 15,\n",
        "                     'small': 25},\n",
        "            'carrot': 13,\n",
        "            'leek': 19,\n",
        "            'tomato': 25\n",
        "           }\n",
        "}\n",
        "\n"
      ],
      "metadata": {
        "id": "zTtImG3JFxQO"
      },
      "execution_count": null,
      "outputs": []
    },
    {
      "cell_type": "code",
      "source": [
        "# 15) Aşağıdaki collection içerisine Kenya: Nairobi çiftini ekleyin.\n",
        "\n",
        "country_capitals = {'Türkiye': 'Ankara',\n",
        "                    'Germany': 'Berlin',\n",
        "                    'Japan': 'Tokyo',\n",
        "                    'Canada': 'Ottawa',\n",
        "                    'Peru': 'Lima',\n",
        "                    'Kazakhstan' : 'Astana',\n",
        "                    'India' : 'New Delhi'                   \n",
        "                    }\n"
      ],
      "metadata": {
        "id": "6LfDGsjnUp6s"
      },
      "execution_count": null,
      "outputs": []
    },
    {
      "cell_type": "code",
      "source": [
        "# 16) dictionary collection içerisine 'Kenya':'Nairobi', 'Canada': 'Ottawa', 'Japan': 'Tokyo' key-value'leleri tek satırda ekleyin\n",
        "\n",
        "country_capitals = {'Türkiye': 'Ankara',\n",
        "                    'Germany': 'Berlin',\n",
        "                    'Peru': 'Lima',\n",
        "                    'India' : 'New Delhi'\n",
        "                    }\n",
        "\n"
      ],
      "metadata": {
        "id": "12anYmB3TcT4"
      },
      "execution_count": null,
      "outputs": []
    },
    {
      "cell_type": "code",
      "source": [
        "# 17) Aşağıdaki collection içerisine yapılan eklemelerden hangisi/hangileri çalışmaz ve çalışmama nedeni nedir? \n",
        " \n",
        "country_capitals = {'Türkiye': 'Ankara',\n",
        "                    'Germany': 'Berlin',\n",
        "                    'Japan': 'Tokyo',\n",
        "                    'Canada': 'Ottawa',\n",
        "                    'Peru': 'Lima',\n",
        "                    'Kazakhstan' : 'Astana',\n",
        "                    'India' : 'New Delhi'                   \n",
        "                    }\n",
        "                    \n",
        "country_capitals['Poland'] = 'Warsaw'\n",
        "country_capitals.update({'Egypt': 'Cairo'})\n",
        "country_capitals.update(Japan = 'Tokyo')\n",
        "country_capitals.update([('USA', 'Washington, D.C.')])\n",
        "country_capitals.update(Chine = 'Beijing')\n",
        "country_capitals.update([['Azerbaijan', 'Baku']])\n",
        "\n",
        "country_capitals"
      ],
      "metadata": {
        "id": "feNN5RaXvkx9"
      },
      "execution_count": null,
      "outputs": []
    },
    {
      "cell_type": "code",
      "source": [
        "# 18) 14, 15 ve 16. satırların print sonuçları nedir?\n",
        "country_capitals1 = {'Türkiye': 'Ankara', 'Germany': 'Berlin', 'Peru': 'Lima',  'India' : 'New Delhi'}\n",
        "\n",
        "country_capitals2 = {'Türkiye': 'Ankara','Germany': 'Berlin', 'Peru': 'Lima',\n",
        "                    'India' : 'New Delhi'\n",
        "                    }\n",
        "\n",
        "country_capitals3 = {'Türkiye': 'Ankara',\n",
        "                    'Germany': 'Berlin',\n",
        "                    'Peru': 'Lima',\n",
        "                    'India' : 'New Delhi'\n",
        "                    }\n",
        "\n",
        "print(country_capitals1,'\\n')\n",
        "print(country_capitals2,'\\n')\n",
        "print(country_capitals3)"
      ],
      "metadata": {
        "id": "iQupNWxvV7IH"
      },
      "execution_count": null,
      "outputs": []
    },
    {
      "cell_type": "code",
      "source": [
        "# 19) UK'nin başkentini London' yapın\n",
        "country_capitals = {\n",
        "    'asia': {'Japan': 'Tokyo',\n",
        "             'Kazakhstan' : 'Astana',\n",
        "             'Kyrgyzstan' : 'Bishkek',\n",
        "             'India' : 'New Delhi'\n",
        "             },\n",
        "    'europe':{'UK': 'Washington',\n",
        "              'France': 'Paris',\n",
        "              'Türkiye': 'Ankara',\n",
        "              'Rumania': 'Bucharest',\n",
        "              'Bulgaria': 'Sofia',\n",
        "              'Greece': 'Athens',\n",
        "              'Germany': 'Berlin'\n",
        "              },\n",
        "    'america': {'Canada': 'Ottawa',\n",
        "                'Canada': 'Ottawa',\n",
        "                'Peru': 'Lima',\n",
        "                'Mexico': 'Mexico City',\n",
        "                'USA': 'Washington, D.C.'\n",
        "                },\n",
        "    'africa' : {'Kenya':'Nairobi',\n",
        "                'Morocco': 'Rabat',\n",
        "                'Nigeria':'Abuja',\n",
        "                'Madagascar': ' Antananarivo'\n",
        "                },\n",
        "    'australia':{'Australia' : 'Canberra'}\n",
        "    }\n",
        "    \n"
      ],
      "metadata": {
        "colab": {
          "base_uri": "https://localhost:8080/"
        },
        "id": "jMU64n1QyOnX",
        "outputId": "d5f81127-23ec-4ced-d02b-cd6b3b6a41a8"
      },
      "execution_count": null,
      "outputs": [
        {
          "output_type": "execute_result",
          "data": {
            "text/plain": [
              "{}"
            ]
          },
          "metadata": {},
          "execution_count": 123
        }
      ]
    },
    {
      "cell_type": "code",
      "source": [
        "#) 20 ) İşlemlerinin sonunda hangi ülkeler kalır\n",
        "\n",
        "country_capitals = {'Türkiye': 'Ankara',\n",
        "                    'Germany': 'Berlin',\n",
        "                    'Peru': 'Lima',\n",
        "                    'India': 'New Delhi',\n",
        "                    'Kenya': 'Nairobi',\n",
        "                    'Canada': 'Ottawa',\n",
        "                    'Japan': 'Tokyo'}\n",
        "\n",
        "del country_capitals['Canada']\n",
        "country_capitals.pop('Peru')\n",
        "country_capitals.popitem()\n",
        "country_capitals"
      ],
      "metadata": {
        "id": "7AJAGnfJUass"
      },
      "execution_count": null,
      "outputs": []
    },
    {
      "cell_type": "code",
      "source": [
        "# 21) 8, 10, 14 sattırlardaki print function içine dictionary item'i, key ve value'lerini ayrı satırlarda gösterecek methodları kullanın.\n",
        "country_capitals = {'Türkiye': 'Ankara',\n",
        "                    'Germany': 'Berlin',\n",
        "                    'Peru': 'Lima',\n",
        "                    'India' : 'New Delhi'\n",
        "                    }\n",
        "# accesing dictionary items\n",
        "print()\n",
        "\n",
        "# accesing dictionary key\n",
        "print()\n",
        "\n",
        "# accesing dictionary value\n",
        "print()"
      ],
      "metadata": {
        "id": "Sc17u0ulVqbN"
      },
      "execution_count": null,
      "outputs": []
    },
    {
      "cell_type": "code",
      "source": [
        "# 22) Country_capitals'ın anahtar sayısını uygun function kullanarak gösterin.\n",
        "country_capitals = {'Türkiye': 'Ankara',\n",
        "                    'Germany': 'Berlin',\n",
        "                    'Peru': 'Lima',\n",
        "                    'India' : 'New Delhi'\n",
        "                    }\n"
      ],
      "metadata": {
        "id": "qhlb2RC6eio9"
      },
      "execution_count": null,
      "outputs": []
    },
    {
      "cell_type": "code",
      "source": [
        "# 23) Country_capitals collection'ın sorted function.'ı uygulananınca ne olur?\n",
        "country_capitals = {'Türkiye': 'Ankara',\n",
        "                    'Germany': 'Berlin',\n",
        "                    'Peru': 'Lima',\n",
        "                    'India' : 'New Delhi'\n",
        "                    }\n",
        "\n",
        "print('Önce:  ', country_capitals)\n",
        "print('Sıralı:' , sorted(country_capitals))\n",
        "print('Sonra: ', country_capitals)\n"
      ],
      "metadata": {
        "id": "wCskWpLr65qk"
      },
      "execution_count": null,
      "outputs": []
    },
    {
      "cell_type": "code",
      "source": [
        "# 24) Country_capitals collection'ın list function'ı uygulananınca ne olur?\n",
        "country_capitals = {'Türkiye': 'Ankara',\n",
        "                    'Germany': 'Berlin',\n",
        "                    'Peru': 'Lima',\n",
        "                    'India' : 'New Delhi'\n",
        "                    }\n",
        "\n",
        "print(country_capitals)\n",
        "print(list(country_capitals))\n",
        "print(country_capitals.keys())\n"
      ],
      "metadata": {
        "id": "DvxW7R7W7Oqc"
      },
      "execution_count": null,
      "outputs": []
    },
    {
      "cell_type": "code",
      "source": [
        "# 25) Collection'a göre aşağıdaki print sonuçları nelerdir?\n",
        "country_capitals = {'Türkiye': 'Ankara',\n",
        "                    'Germany': 'Berlin',\n",
        "                    'Peru': 'Lima',\n",
        "                    'India' : 'New Delhi'\n",
        "                    }\n",
        "\n",
        "\n",
        "print('Germany' in country_capitals)\n",
        "print('Chine' not in country_capitals)\n",
        "print('India' not in country_capitals)\n",
        "print('Lima' in country_capitals)\n",
        "print('Ankara' in country_capitals.values())"
      ],
      "metadata": {
        "id": "nVIcyzczNGjQ"
      },
      "execution_count": null,
      "outputs": []
    },
    {
      "cell_type": "code",
      "source": [
        "# 26) A) planet key'ine World value'sini ekleyin\n",
        "#     B) Saturn value'si Mars ile değişsin.\n",
        "#     C) number'ın value'si 65 yapın\n",
        "#     D) is_good is_bad olsun\n",
        "\n",
        "mix_values = {'animal': ('dog', 'cat'),  # tuple type\n",
        "              'planet': ['Neptun', 'Saturn', 'Jupiter'],  # list type\n",
        "              'number': 40,  # int type\n",
        "              'pi': 3.14,  # float type\n",
        "              'is_good': True}  # bool type\n"
      ],
      "metadata": {
        "id": "IU1HjM1eT6c9"
      },
      "execution_count": null,
      "outputs": []
    },
    {
      "cell_type": "code",
      "source": [
        "# 27) Collectine göre aşağıda print sonuçları?\n",
        "\n",
        "mix_keys = {22 : \"integer\",\n",
        "            1.2 : \"float\",\n",
        "            True : \"boolean\",\n",
        "            \"key\" : \"string\"}\n",
        "\n",
        "\n",
        "print(22 in mix_keys)\n",
        "print(22 in mix_keys.keys())\n",
        "\n",
        "print(\"integer\" in mix_keys)\n",
        "print(\"integer\" in mix_keys.items())\n",
        "print(\"integer\" in mix_keys.values())\n",
        "\n",
        "print((22,\"integer\") in mix_keys.items())"
      ],
      "metadata": {
        "id": "mqKvWpWx_r45"
      },
      "execution_count": null,
      "outputs": []
    },
    {
      "cell_type": "code",
      "source": [
        "# PreClass Homework\n",
        "# How can we access and print Lisa’s age? Write the syntax.\n",
        "customers = \n",
        "{\n",
        "    'bank': \n",
        "      {1: {'name': 'James', 'age': '27', 'sex': 'Male'},\n",
        "       2: {'name': 'Nicole', 'age': '25', 'sex': 'Female'},\n",
        "       3: {'name': 'Andy', 'age': '38', 'sex': 'Male'},\n",
        "       4: {'name': 'Alex', 'age': '19', 'sex': 'Male'},\n",
        "       5: {'name': 'Linda', 'age': '33', 'sex': 'Female'}, \n",
        "      },\n",
        "     'insurance':\n",
        "      {1: {'name': 'Jashua', 'age': '33', 'sex': 'Male'},\n",
        "       2: {'name': 'Marry', 'age': '66', 'sex': 'Female'},\n",
        "       3: {'name': 'Adam', 'age': '56', 'sex': 'Male'},\n",
        "       4: {'name': 'Samuel', 'age': '54', 'sex': 'Male'},\n",
        "       5: {'name': 'Lisa', 'age': '22', 'sex': 'Female'},\n",
        "      },\n",
        "}\n"
      ],
      "metadata": {
        "id": "HMXFBQlMRuKN"
      },
      "execution_count": null,
      "outputs": []
    }
  ]
}