{
  "cells": [
    {
      "cell_type": "markdown",
      "metadata": {
        "id": "view-in-github",
        "colab_type": "text"
      },
      "source": [
        "<a href=\"https://colab.research.google.com/github/safiyeolgun/students-lab/blob/main/04062023.ipynb\" target=\"_parent\"><img src=\"https://colab.research.google.com/assets/colab-badge.svg\" alt=\"Open In Colab\"/></a>"
      ]
    },
    {
      "cell_type": "markdown",
      "metadata": {
        "id": "tnLDSfY-f6NZ"
      },
      "source": [
        "<h1> For Loop </h1>"
      ]
    },
    {
      "cell_type": "code",
      "execution_count": null,
      "metadata": {
        "id": "PMA9lNvrLd0M"
      },
      "outputs": [],
      "source": [
        "for variable in iterable:\n",
        "    code block\n",
        "\n",
        "iterable types of data\n",
        "string, list, tuple , dictionary, set\n",
        "\n",
        "len()\n",
        "\n",
        "my_string ='Clarusway'\n",
        "my_string = '12345'\n",
        "my_list = [1, 2, 3, 4, 5]\n",
        "my_tuple = (1, 2, 3, 4, 5)\n",
        "my_dict = {1: 'one', 2: 'two', 3: 'three', 4: 'four', 5: five}\n",
        "my_set = { 1, 2, 3, 4, 5}\n",
        "my_order = range(10)"
      ]
    },
    {
      "cell_type": "markdown",
      "metadata": {
        "id": "mKJfwiKeOLnt"
      },
      "source": [
        "Aşağıda verilen list'in herbir elemanını iterable olarak for döngüsü içerisinde alıp her elemanı ekranda ayrı satırda yazan program "
      ]
    },
    {
      "cell_type": "code",
      "execution_count": null,
      "metadata": {
        "colab": {
          "base_uri": "https://localhost:8080/"
        },
        "id": "H9qQFrGPJmtE",
        "outputId": "00c357e3-1864-402d-f200-a8424a2ae2b8"
      },
      "outputs": [
        {
          "output_type": "stream",
          "name": "stdout",
          "text": [
            "[1, 2, 3, 4, 5]\n",
            "1\n",
            "2\n",
            "3\n",
            "4\n",
            "5\n",
            "\n",
            "1\n",
            "2\n",
            "3\n",
            "4\n",
            "5\n"
          ]
        }
      ],
      "source": [
        "my_list = [1, 2, 3, 4, 5]\n",
        "\n",
        "print(my_list)\n",
        "\n",
        "for eleman in my_list:\n",
        "  print(eleman)\n",
        "\n",
        "print()\n",
        "print(*my_list, sep='\\n')\n"
      ]
    },
    {
      "cell_type": "markdown",
      "metadata": {
        "id": "UIqaROCGOgJq"
      },
      "source": [
        "Aşağıda verilen tuple'nin herbir elemanını iterable olarak for döngüsü içerisinde alıp her elemanı ekranda ayrı satıra yazan program"
      ]
    },
    {
      "cell_type": "code",
      "execution_count": null,
      "metadata": {
        "id": "adBVfTZBSsw0",
        "colab": {
          "base_uri": "https://localhost:8080/"
        },
        "outputId": "94ef0d27-feaa-43c2-d513-f53ea5aec5a4"
      },
      "outputs": [
        {
          "output_type": "stream",
          "name": "stdout",
          "text": [
            "('spring', 'summer', 'autumn', 'winter')\n",
            "spring\n",
            "summer\n",
            "autumn\n",
            "winter\n",
            "winter\n"
          ]
        }
      ],
      "source": [
        "seasons = ('spring', 'summer', 'autumn', 'winter')\n",
        "\n",
        "print(seasons)\n",
        "\n",
        "for x in seasons:\n",
        "  print(x)\n",
        "\n",
        "print(x)"
      ]
    },
    {
      "cell_type": "markdown",
      "metadata": {
        "id": "My0wX3RUOuia"
      },
      "source": [
        "Aşağıda verilen dictionary'in herbir elemanını iterable olarak for döngüsü içerisinde alıp her elemanı ekranda ayrı satırda yazan program"
      ]
    },
    {
      "cell_type": "code",
      "execution_count": null,
      "metadata": {
        "id": "nvwoAgKgSvGt",
        "colab": {
          "base_uri": "https://localhost:8080/"
        },
        "outputId": "41c8cdb9-8bfa-47ed-f925-6f2974cc6fef"
      },
      "outputs": [
        {
          "output_type": "stream",
          "name": "stdout",
          "text": [
            "3 {'n1': 'one', 'n2': 'two', 'n3': 'three'}\n",
            "one\n",
            "two\n",
            "three\n"
          ]
        }
      ],
      "source": [
        "numbers = {'n1' : 'one', 'n2' : 'two', 'n3': 'three'}\n",
        "\n",
        "print(len(numbers), numbers)\n",
        "\n",
        "for i in numbers.items():\n",
        "  print(i[1])"
      ]
    },
    {
      "cell_type": "markdown",
      "metadata": {
        "id": "F0DerTyNOz-R"
      },
      "source": [
        "Aşağıda verilen set'in herbir elemanını iterable olarak for döngüsü içerisinde alıp her elemanı ekranda ayrı satırda yazan program"
      ]
    },
    {
      "cell_type": "code",
      "execution_count": null,
      "metadata": {
        "id": "IbPKUvKBNc75",
        "colab": {
          "base_uri": "https://localhost:8080/"
        },
        "outputId": "595f54da-5396-41b3-a6cb-bb5a08be7254"
      },
      "outputs": [
        {
          "output_type": "stream",
          "name": "stdout",
          "text": [
            "{'March', 'June', 'January', 'November', 'December', 'August', 'September', 'October', 'May', 'July', 'Ferbuary', 'April'}\n",
            "March\n",
            "June\n",
            "January\n",
            "November\n",
            "December\n",
            "August\n",
            "September\n",
            "October\n",
            "May\n",
            "July\n",
            "Ferbuary\n",
            "April\n"
          ]
        }
      ],
      "source": [
        "months = {'January', 'Ferbuary', 'March', 'April', 'May', 'June', 'July', 'August', 'September', 'October', 'November', 'December'}\n",
        "\n",
        "print(months)\n",
        "\n",
        "for j in months:\n",
        "  print(j)"
      ]
    },
    {
      "cell_type": "markdown",
      "metadata": {
        "id": "CouHVsdTR59p"
      },
      "source": [
        "Aşağıda verilen range ile elde edilen listenin her bir elemanını ekranda ayrı satırda yazan program "
      ]
    },
    {
      "cell_type": "code",
      "execution_count": null,
      "metadata": {
        "id": "ITe8I7C5R6hc",
        "colab": {
          "base_uri": "https://localhost:8080/"
        },
        "outputId": "4cc8f6e0-3294-4818-cde4-a88dee5cdea7"
      },
      "outputs": [
        {
          "output_type": "stream",
          "name": "stdout",
          "text": [
            "range(1, 11)\n",
            "1\n",
            "2\n",
            "3\n",
            "4\n",
            "5\n",
            "6\n",
            "7\n",
            "8\n",
            "9\n",
            "10\n"
          ]
        }
      ],
      "source": [
        "my_sequence = range(1, 11, 1)\n",
        "\n",
        "print(my_sequence)\n",
        "\n",
        "for x in my_sequence:\n",
        "  print(x)\n"
      ]
    },
    {
      "cell_type": "code",
      "source": [
        "my_sequence = range(1, 11, 1)\n",
        "print(my_sequence)\n",
        "print(list(my_sequence))\n",
        "for x in my_sequence:\n",
        "  print(x, end='\\n')"
      ],
      "metadata": {
        "colab": {
          "base_uri": "https://localhost:8080/"
        },
        "id": "-pMEShwH9pn2",
        "outputId": "cd7276b1-630b-469f-c2ad-25903bd5e60e"
      },
      "execution_count": null,
      "outputs": [
        {
          "output_type": "stream",
          "name": "stdout",
          "text": [
            "range(1, 11)\n",
            "[1, 2, 3, 4, 5, 6, 7, 8, 9, 10]\n",
            "1\n",
            "2\n",
            "3\n",
            "4\n",
            "5\n",
            "6\n",
            "7\n",
            "8\n",
            "9\n",
            "10\n"
          ]
        }
      ]
    },
    {
      "cell_type": "markdown",
      "metadata": {
        "id": "3X5vQ3-ONdU-"
      },
      "source": [
        "Ekrana 8 kez Dünya Dönüyor yazdıran program"
      ]
    },
    {
      "cell_type": "code",
      "execution_count": null,
      "metadata": {
        "id": "DMPcGUbKSwIM",
        "colab": {
          "base_uri": "https://localhost:8080/"
        },
        "outputId": "f1e239e1-2d96-4d21-dc9b-b199522b2d88"
      },
      "outputs": [
        {
          "output_type": "stream",
          "name": "stdout",
          "text": [
            "0. Dünya Dönüyor\n",
            "1. Dünya Dönüyor\n",
            "2. Dünya Dönüyor\n",
            "3. Dünya Dönüyor\n",
            "4. Dünya Dönüyor\n",
            "5. Dünya Dönüyor\n",
            "6. Dünya Dönüyor\n",
            "7. Dünya Dönüyor\n"
          ]
        }
      ],
      "source": [
        "# print(8*'Dünya Dönüyor\\n')\n",
        "text ='Dünya Dönüyor'\n",
        "\n",
        "for i in range(8):\n",
        "  print(f'{i}. {text}')\n"
      ]
    },
    {
      "cell_type": "markdown",
      "metadata": {
        "id": "UiXTkLaYMod1"
      },
      "source": [
        "Klavyeden 10 kere giriş yapan program"
      ]
    },
    {
      "cell_type": "code",
      "execution_count": null,
      "metadata": {
        "id": "NJDchzm7M2Jo",
        "colab": {
          "base_uri": "https://localhost:8080/"
        },
        "outputId": "5ea0f936-07d6-45bb-c9b1-0f42617ad7d8"
      },
      "outputs": [
        {
          "name": "stdout",
          "output_type": "stream",
          "text": [
            "1. girişi yap: \n",
            "2. girişi yap: 5\n",
            "3. girişi yap: \n",
            "4. girişi yap: 6\n",
            "5. girişi yap: 4\n",
            "6. girişi yap: 4\n",
            "7. girişi yap: 5\n",
            "8. girişi yap: 5\n",
            "9. girişi yap: 2\n",
            "10. girişi yap: 2\n"
          ]
        }
      ],
      "source": [
        "for i in range(10\n",
        "               ):\n",
        "  input(f'{i+1}. girişi yap: ')\n"
      ]
    },
    {
      "cell_type": "markdown",
      "metadata": {
        "id": "iU0ynxKPS5oi"
      },
      "source": [
        "Aşağıdaki Okul numarası ve İsmi listesi verilen 2 listeyi zip fuction ile birleştirerek ekranda yzan program"
      ]
    },
    {
      "cell_type": "code",
      "execution_count": null,
      "metadata": {
        "id": "PLG3UR93S6R6",
        "colab": {
          "base_uri": "https://localhost:8080/"
        },
        "outputId": "7ef0fa2f-e446-4b7e-f843-cd152058d924"
      },
      "outputs": [
        {
          "output_type": "stream",
          "name": "stdout",
          "text": [
            "(90, 'Aydan Yıldız')\n",
            "(3, 'Ali Güneş')\n",
            "(20, 'Selma Varlı')\n",
            "(543, 'Sinem Yılmaz')\n",
            "(47, 'Ayhan Işık')\n"
          ]
        }
      ],
      "source": [
        "numbers = [90, 3, 20, 543, 47]\n",
        "names = ['Aydan Yıldız', 'Ali Güneş', 'Selma Varlı', 'Sinem Yılmaz', 'Ayhan Işık']\n",
        "\n",
        "for i in zip(numbers, names):\n",
        "  print(i)\n",
        "\n"
      ]
    },
    {
      "cell_type": "markdown",
      "metadata": {
        "id": "OG2TeQ3dNsZm"
      },
      "source": [
        "Klavyeden girilen ismin her harfini ayrı satırda yazan program "
      ]
    },
    {
      "cell_type": "code",
      "execution_count": null,
      "metadata": {
        "id": "_GktCToOhUCU",
        "colab": {
          "base_uri": "https://localhost:8080/"
        },
        "outputId": "72298b10-9637-4cd3-be7d-b34d2e88c227"
      },
      "outputs": [
        {
          "output_type": "stream",
          "name": "stdout",
          "text": [
            "ismini gir: Ayşegül\n",
            "A\n",
            "y\n",
            "ş\n",
            "e\n",
            "g\n",
            "ü\n",
            "l\n"
          ]
        }
      ],
      "source": [
        "text = input('ismini gir: ')\n",
        "\n",
        "# print(text)\n",
        "\n",
        "for eleman in text:\n",
        "  print(eleman)"
      ]
    },
    {
      "cell_type": "markdown",
      "metadata": {
        "id": "1-zkX96NQ5HT"
      },
      "source": [
        "1-20'ye kadar olan sayılarının karelerini ekrana yazan program"
      ]
    },
    {
      "cell_type": "code",
      "execution_count": null,
      "metadata": {
        "id": "7rcib27vQ5f7",
        "colab": {
          "base_uri": "https://localhost:8080/"
        },
        "outputId": "b96f8f40-9078-4a57-aa6e-1dd5ebb5d9b3"
      },
      "outputs": [
        {
          "output_type": "stream",
          "name": "stdout",
          "text": [
            "1. karesi = 1\n",
            "2. karesi = 4\n",
            "3. karesi = 9\n",
            "4. karesi = 16\n",
            "5. karesi = 25\n",
            "6. karesi = 36\n",
            "7. karesi = 49\n",
            "8. karesi = 64\n",
            "9. karesi = 81\n",
            "10. karesi = 100\n",
            "11. karesi = 121\n",
            "12. karesi = 144\n",
            "13. karesi = 169\n",
            "14. karesi = 196\n",
            "15. karesi = 225\n",
            "16. karesi = 256\n",
            "17. karesi = 289\n",
            "18. karesi = 324\n",
            "19. karesi = 361\n",
            "20. karesi = 400\n"
          ]
        }
      ],
      "source": [
        "for x in range(1,21):\n",
        "  print(f'{x}. karesi = {pow(x,2)}')"
      ]
    },
    {
      "cell_type": "markdown",
      "metadata": {
        "id": "FdLupQlYNahU"
      },
      "source": [
        "Klavyeden girilen 15 sayıyı odd ve even adlı iki ayrı list collection'a ekleyip, ekranda gösteren program "
      ]
    },
    {
      "cell_type": "code",
      "execution_count": null,
      "metadata": {
        "id": "5V0kvJasNQ4H",
        "colab": {
          "base_uri": "https://localhost:8080/"
        },
        "outputId": "619a64f1-559d-4863-d7e9-96030d0f534b"
      },
      "outputs": [
        {
          "output_type": "stream",
          "name": "stdout",
          "text": [
            "1. sayıyı gir: 7\n",
            "2. sayıyı gir: 0\n",
            "3. sayıyı gir: 90\n",
            "4. sayıyı gir: 24\n",
            "[7]\n",
            "[0, 90, 24]\n"
          ]
        }
      ],
      "source": [
        "even = []\n",
        "odd = []\n",
        "\n",
        "for i in range(15):\n",
        "  sayi = int(input(f'{i+1}. sayıyı gir: '))\n",
        "  if sayi % 2 == 0:\n",
        "    even.append(sayi)\n",
        "  else:\n",
        "    odd.append(sayi)\n",
        "\n",
        "print(odd)\n",
        "print(even)  "
      ]
    },
    {
      "cell_type": "markdown",
      "metadata": {
        "id": "kikoArKTNRsw"
      },
      "source": [
        "Klavyeden girilen 20 sayı içerisinde en büyüğünü bulan program"
      ]
    },
    {
      "cell_type": "code",
      "execution_count": null,
      "metadata": {
        "id": "sAIov_bXM4eo",
        "colab": {
          "base_uri": "https://localhost:8080/"
        },
        "outputId": "275b9f3e-f615-4a6e-f95c-f92711420d22"
      },
      "outputs": [
        {
          "output_type": "stream",
          "name": "stdout",
          "text": [
            "1. sayı: 6\n",
            "2. sayı: -3\n",
            "3. sayı: 4\n",
            "4. sayı: 1\n",
            "en büyük sayı: 6\n"
          ]
        }
      ],
      "source": [
        "sayi = []\n",
        "\n",
        "for i in range(1,5):\n",
        "  x = int(input(f'{i}. sayı: '))\n",
        "  sayi.append(x)\n",
        "\n",
        "print('en büyük sayı:', max(sayi))\n"
      ]
    },
    {
      "cell_type": "code",
      "source": [
        "sayi = []\n",
        "\n",
        "for i in range(1,5):\n",
        "  x = int(input(f'{i}. sayı: '))\n",
        "  sayi.append(x)\n",
        "\n",
        "  enb = 0\n",
        "for i in sayi:\n",
        "  if i > enb:\n",
        "    enb =i\n",
        "print('en büyük sayı: ', enb)"
      ],
      "metadata": {
        "colab": {
          "base_uri": "https://localhost:8080/"
        },
        "id": "N0MFOK9Y8cGV",
        "outputId": "6f39ecaf-c937-4170-b9b0-ff96e51421bb"
      },
      "execution_count": null,
      "outputs": [
        {
          "output_type": "stream",
          "name": "stdout",
          "text": [
            "1. sayı: 5\n",
            "2. sayı: 8\n",
            "3. sayı: 2\n",
            "4. sayı: 0\n",
            "en büyük sayı:  8\n"
          ]
        }
      ]
    },
    {
      "cell_type": "code",
      "source": [
        "enb = 0\n",
        "for i in range(1,5):\n",
        "  x = int(input(f'{i}. sayı: '))\n",
        "  if x > enb:\n",
        "    enb = x \n",
        "\n",
        "print('en büyük sayı: ', enb)"
      ],
      "metadata": {
        "colab": {
          "base_uri": "https://localhost:8080/"
        },
        "id": "c2Z1u2qm8Wqe",
        "outputId": "6add5c93-7d64-454d-b07a-4ec6bf66f5b9"
      },
      "execution_count": null,
      "outputs": [
        {
          "output_type": "stream",
          "name": "stdout",
          "text": [
            "1. sayı: 6\n",
            "2. sayı: 2\n",
            "3. sayı: 5\n",
            "4. sayı: -1\n",
            "en büyük sayı:  6\n"
          ]
        }
      ]
    },
    {
      "cell_type": "markdown",
      "metadata": {
        "id": "cStJnJzseFO-"
      },
      "source": [
        "# **Nested Loop:** \n",
        "Çarpım tablosunu oluşturun"
      ]
    },
    {
      "cell_type": "code",
      "execution_count": null,
      "metadata": {
        "id": "wk1JGMHVSwaj",
        "colab": {
          "base_uri": "https://localhost:8080/"
        },
        "outputId": "3833e148-9149-4ca8-f85f-9223163be2c5"
      },
      "outputs": [
        {
          "output_type": "stream",
          "name": "stdout",
          "text": [
            "1 x 1 = 1\n",
            "1 x 2 = 2\n",
            "1 x 3 = 3\n",
            "1 x 4 = 4\n",
            "1 x 5 = 5\n",
            "1 x 6 = 6\n",
            "1 x 7 = 7\n",
            "1 x 8 = 8\n",
            "1 x 9 = 9\n",
            "1 x 10 = 10\n",
            "2 x 1 = 2\n",
            "2 x 2 = 4\n",
            "2 x 3 = 6\n",
            "2 x 4 = 8\n",
            "2 x 5 = 10\n",
            "2 x 6 = 12\n",
            "2 x 7 = 14\n",
            "2 x 8 = 16\n",
            "2 x 9 = 18\n",
            "2 x 10 = 20\n",
            "3 x 1 = 3\n",
            "3 x 2 = 6\n",
            "3 x 3 = 9\n",
            "3 x 4 = 12\n",
            "3 x 5 = 15\n",
            "3 x 6 = 18\n",
            "3 x 7 = 21\n",
            "3 x 8 = 24\n",
            "3 x 9 = 27\n",
            "3 x 10 = 30\n",
            "4 x 1 = 4\n",
            "4 x 2 = 8\n",
            "4 x 3 = 12\n",
            "4 x 4 = 16\n",
            "4 x 5 = 20\n",
            "4 x 6 = 24\n",
            "4 x 7 = 28\n",
            "4 x 8 = 32\n",
            "4 x 9 = 36\n",
            "4 x 10 = 40\n",
            "5 x 1 = 5\n",
            "5 x 2 = 10\n",
            "5 x 3 = 15\n",
            "5 x 4 = 20\n",
            "5 x 5 = 25\n",
            "5 x 6 = 30\n",
            "5 x 7 = 35\n",
            "5 x 8 = 40\n",
            "5 x 9 = 45\n",
            "5 x 10 = 50\n",
            "6 x 1 = 6\n",
            "6 x 2 = 12\n",
            "6 x 3 = 18\n",
            "6 x 4 = 24\n",
            "6 x 5 = 30\n",
            "6 x 6 = 36\n",
            "6 x 7 = 42\n",
            "6 x 8 = 48\n",
            "6 x 9 = 54\n",
            "6 x 10 = 60\n",
            "7 x 1 = 7\n",
            "7 x 2 = 14\n",
            "7 x 3 = 21\n",
            "7 x 4 = 28\n",
            "7 x 5 = 35\n",
            "7 x 6 = 42\n",
            "7 x 7 = 49\n",
            "7 x 8 = 56\n",
            "7 x 9 = 63\n",
            "7 x 10 = 70\n",
            "8 x 1 = 8\n",
            "8 x 2 = 16\n",
            "8 x 3 = 24\n",
            "8 x 4 = 32\n",
            "8 x 5 = 40\n",
            "8 x 6 = 48\n",
            "8 x 7 = 56\n",
            "8 x 8 = 64\n",
            "8 x 9 = 72\n",
            "8 x 10 = 80\n",
            "9 x 1 = 9\n",
            "9 x 2 = 18\n",
            "9 x 3 = 27\n",
            "9 x 4 = 36\n",
            "9 x 5 = 45\n",
            "9 x 6 = 54\n",
            "9 x 7 = 63\n",
            "9 x 8 = 72\n",
            "9 x 9 = 81\n",
            "9 x 10 = 90\n",
            "10 x 1 = 10\n",
            "10 x 2 = 20\n",
            "10 x 3 = 30\n",
            "10 x 4 = 40\n",
            "10 x 5 = 50\n",
            "10 x 6 = 60\n",
            "10 x 7 = 70\n",
            "10 x 8 = 80\n",
            "10 x 9 = 90\n",
            "10 x 10 = 100\n"
          ]
        }
      ],
      "source": [
        "for i in range(1,11):  \n",
        "  for j in  range(1,11):  \n",
        "    print(f'{i} x {j} =', i*j)\n"
      ]
    },
    {
      "cell_type": "markdown",
      "metadata": {
        "id": "BH9aO6VIPxUq"
      },
      "source": [
        "Kullanıcıdan bir iş yerindeki 5 çalışanın sicil no, ad ve soyad bilgilerini alıp, dictionary collectiona ekleyen program"
      ]
    },
    {
      "cell_type": "code",
      "execution_count": null,
      "metadata": {
        "id": "4AEo75oIUY4Y"
      },
      "outputs": [],
      "source": [
        "personel = {}\n",
        "\n",
        "for i in range(5):\n",
        "  sicil_no = input(f'{i+1}. kişinin sicil nosu: ')\n",
        "  ad = input(f'{i+1}. kişinin adı: ')\n",
        "  soyad = input(f'{i+1}. kişinin  soyadı: ')\n",
        "  personel[sicil_no] = (ad, soyad)\n",
        "\n",
        "print(personel)\n",
        "\n"
      ]
    }
  ],
  "metadata": {
    "colab": {
      "provenance": [],
      "authorship_tag": "ABX9TyOOYI74eajnc+M90mCLrm9L",
      "include_colab_link": true
    },
    "kernelspec": {
      "display_name": "Python 3",
      "name": "python3"
    },
    "language_info": {
      "name": "python"
    }
  },
  "nbformat": 4,
  "nbformat_minor": 0
}